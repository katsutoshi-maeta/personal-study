{
 "cells": [
  {
   "cell_type": "code",
   "execution_count": 1,
   "metadata": {
    "collapsed": true
   },
   "outputs": [],
   "source": [
    "import pandas as pd\n",
    "\n",
    "import numpy as np\n",
    "\n",
    "import matplotlib.pyplot as plt\n",
    "\n",
    "% matplotlib inline"
   ]
  },
  {
   "cell_type": "code",
   "execution_count": 2,
   "metadata": {
    "collapsed": false
   },
   "outputs": [],
   "source": [
    "click_dat = pd.read_csv('click.csv')"
   ]
  },
  {
   "cell_type": "code",
   "execution_count": 3,
   "metadata": {
    "collapsed": false
   },
   "outputs": [
    {
     "data": {
      "text/html": [
       "<div>\n",
       "<table border=\"1\" class=\"dataframe\">\n",
       "  <thead>\n",
       "    <tr style=\"text-align: right;\">\n",
       "      <th></th>\n",
       "      <th>x</th>\n",
       "      <th>y</th>\n",
       "    </tr>\n",
       "  </thead>\n",
       "  <tbody>\n",
       "    <tr>\n",
       "      <th>0</th>\n",
       "      <td>235</td>\n",
       "      <td>591</td>\n",
       "    </tr>\n",
       "    <tr>\n",
       "      <th>1</th>\n",
       "      <td>216</td>\n",
       "      <td>539</td>\n",
       "    </tr>\n",
       "    <tr>\n",
       "      <th>2</th>\n",
       "      <td>148</td>\n",
       "      <td>413</td>\n",
       "    </tr>\n",
       "    <tr>\n",
       "      <th>3</th>\n",
       "      <td>35</td>\n",
       "      <td>310</td>\n",
       "    </tr>\n",
       "    <tr>\n",
       "      <th>4</th>\n",
       "      <td>85</td>\n",
       "      <td>308</td>\n",
       "    </tr>\n",
       "  </tbody>\n",
       "</table>\n",
       "</div>"
      ],
      "text/plain": [
       "     x    y\n",
       "0  235  591\n",
       "1  216  539\n",
       "2  148  413\n",
       "3   35  310\n",
       "4   85  308"
      ]
     },
     "execution_count": 3,
     "metadata": {},
     "output_type": "execute_result"
    }
   ],
   "source": [
    "click_dat.head()"
   ]
  },
  {
   "cell_type": "code",
   "execution_count": null,
   "metadata": {
    "collapsed": true
   },
   "outputs": [],
   "source": []
  },
  {
   "cell_type": "code",
   "execution_count": 4,
   "metadata": {
    "collapsed": true
   },
   "outputs": [],
   "source": [
    "train_y = click_dat.y"
   ]
  },
  {
   "cell_type": "code",
   "execution_count": 5,
   "metadata": {
    "collapsed": false,
    "scrolled": true
   },
   "outputs": [
    {
     "data": {
      "text/plain": [
       "[<matplotlib.lines.Line2D at 0x105aa9860>]"
      ]
     },
     "execution_count": 5,
     "metadata": {},
     "output_type": "execute_result"
    },
    {
     "data": {
      "image/png": "[encoded data removed]",
      "text/plain": [
       "<matplotlib.figure.Figure at 0x10ef86f28>"
      ]
     },
     "metadata": {},
     "output_type": "display_data"
    }
   ],
   "source": [
    "plt.plot(click_dat['x'], click_dat['y'], 'o')"
   ]
  },
  {
   "cell_type": "markdown",
   "metadata": {},
   "source": [
    "## 2.2 1次関数として実装"
   ]
  },
  {
   "cell_type": "code",
   "execution_count": null,
   "metadata": {
    "collapsed": true
   },
   "outputs": [],
   "source": []
  },
  {
   "cell_type": "code",
   "execution_count": 6,
   "metadata": {
    "collapsed": false
   },
   "outputs": [],
   "source": [
    "theta0 = np.random.rand()\n",
    "theta1 = np.random.rand()\n",
    "def f(x):\n",
    "    return theta0 + theta1 * x\n",
    "def E(x, y):\n",
    "    return 0.5 * np.sum((y - f(x)) ** 2)"
   ]
  },
  {
   "cell_type": "code",
   "execution_count": 7,
   "metadata": {
    "collapsed": true
   },
   "outputs": [],
   "source": [
    "# standardize\n",
    "mu = click_dat['x'].mean()\n",
    "sigma = click_dat['x'].std()\n",
    "def standardize(x):\n",
    "    return (x - mu) / sigma\n",
    "train_z = standardize(click_dat.x)"
   ]
  },
  {
   "cell_type": "code",
   "execution_count": 8,
   "metadata": {
    "collapsed": false
   },
   "outputs": [
    {
     "data": {
      "text/plain": [
       "[<matplotlib.lines.Line2D at 0x11240d8d0>]"
      ]
     },
     "execution_count": 8,
     "metadata": {},
     "output_type": "execute_result"
    },
    {
     "data": {
      "image/png": "[encoded data removed]",
      "text/plain": [
       "<matplotlib.figure.Figure at 0x1123ef160>"
      ]
     },
     "metadata": {},
     "output_type": "display_data"
    }
   ],
   "source": [
    "plt.plot(train_z, click_dat.y, 'o')"
   ]
  },
  {
   "cell_type": "code",
   "execution_count": 9,
   "metadata": {
    "collapsed": false,
    "scrolled": true
   },
   "outputs": [
    {
     "name": "stdout",
     "output_type": "stream",
     "text": [
      "1回目： theta0 = 9.557, theta1 = 2.536, diff = 75832.9811\n",
      "2回目： theta0 = 17.949, theta1 = 4.310, diff = 72836.3473\n",
      "3回目： theta0 = 26.173, theta1 = 6.050, diff = 69958.1411\n",
      "4回目： theta0 = 34.233, theta1 = 7.758, diff = 67193.6818\n",
      "5回目： theta0 = 42.131, theta1 = 9.433, diff = 64538.4736\n",
      "6回目： theta0 = 49.871, theta1 = 11.076, diff = 61988.1986\n",
      "7回目： theta0 = 57.457, theta1 = 12.687, diff = 59538.7093\n",
      "8回目： theta0 = 64.891, theta1 = 14.269, diff = 57186.0225\n",
      "9回目： theta0 = 72.176, theta1 = 15.820, diff = 54926.3122\n",
      "10回目： theta0 = 79.316, theta1 = 17.341, diff = 52755.9036\n",
      "11回目： theta0 = 86.312, theta1 = 18.834, diff = 50671.2673\n",
      "12回目： theta0 = 93.169, theta1 = 20.298, diff = 48669.0133\n",
      "13回目： theta0 = 99.889, theta1 = 21.735, diff = 46745.8857\n",
      "14回目： theta0 = 106.474, theta1 = 23.144, diff = 44898.7571\n",
      "15回目： theta0 = 112.927, theta1 = 24.527, diff = 43124.6240\n",
      "16回目： theta0 = 119.252, theta1 = 25.883, diff = 41420.6013\n",
      "17回目： theta0 = 125.450, theta1 = 27.214, diff = 39783.9182\n",
      "18回目： theta0 = 131.524, theta1 = 28.519, diff = 38211.9133\n",
      "19回目： theta0 = 137.476, theta1 = 29.799, diff = 36702.0303\n",
      "20回目： theta0 = 143.310, theta1 = 31.055, diff = 35251.8142\n",
      "21回目： theta0 = 149.027, theta1 = 32.287, diff = 33858.9068\n",
      "22回目： theta0 = 154.629, theta1 = 33.496, diff = 32521.0431\n",
      "23回目： theta0 = 160.119, theta1 = 34.682, diff = 31236.0479\n",
      "24回目： theta0 = 165.500, theta1 = 35.845, diff = 30001.8317\n",
      "25回目： theta0 = 170.773, theta1 = 36.986, diff = 28816.3876\n",
      "26回目： theta0 = 175.941, theta1 = 38.106, diff = 27677.7882\n",
      "27回目： theta0 = 181.005, theta1 = 39.204, diff = 26584.1821\n",
      "28回目： theta0 = 185.968, theta1 = 40.281, diff = 25533.7912\n",
      "29回目： theta0 = 190.831, theta1 = 41.338, diff = 24524.9076\n",
      "30回目： theta0 = 195.598, theta1 = 42.375, diff = 23555.8909\n",
      "31回目： theta0 = 200.269, theta1 = 43.392, diff = 22625.1656\n",
      "32回目： theta0 = 204.846, theta1 = 44.390, diff = 21731.2184\n",
      "33回目： theta0 = 209.332, theta1 = 45.369, diff = 20872.5960\n",
      "34回目： theta0 = 213.729, theta1 = 46.329, diff = 20047.9021\n",
      "35回目： theta0 = 218.037, theta1 = 47.271, diff = 19255.7962\n",
      "36回目： theta0 = 222.259, theta1 = 48.195, diff = 18494.9902\n",
      "37回目： theta0 = 226.397, theta1 = 49.102, diff = 17764.2472\n",
      "38回目： theta0 = 230.452, theta1 = 49.991, diff = 17062.3792\n",
      "39回目： theta0 = 234.426, theta1 = 50.863, diff = 16388.2452\n",
      "40回目： theta0 = 238.321, theta1 = 51.719, diff = 15740.7490\n",
      "41回目： theta0 = 242.137, theta1 = 52.559, diff = 15118.8380\n",
      "42回目： theta0 = 245.878, theta1 = 53.382, diff = 14521.5012\n",
      "43回目： theta0 = 249.543, theta1 = 54.190, diff = 13947.7673\n",
      "44回目： theta0 = 253.135, theta1 = 54.983, diff = 13396.7038\n",
      "45回目： theta0 = 256.655, theta1 = 55.761, diff = 12867.4146\n",
      "46回目： theta0 = 260.105, theta1 = 56.523, diff = 12359.0393\n",
      "47回目： theta0 = 263.486, theta1 = 57.272, diff = 11870.7515\n",
      "48回目： theta0 = 266.800, theta1 = 58.006, diff = 11401.7574\n",
      "49回目： theta0 = 270.047, theta1 = 58.726, diff = 10951.2945\n",
      "50回目： theta0 = 273.229, theta1 = 59.432, diff = 10518.6305\n",
      "51回目： theta0 = 276.347, theta1 = 60.125, diff = 10103.0621\n",
      "52回目： theta0 = 279.403, theta1 = 60.805, diff = 9703.9137\n",
      "53回目： theta0 = 282.398, theta1 = 61.472, diff = 9320.5365\n",
      "54回目： theta0 = 285.333, theta1 = 62.126, diff = 8952.3072\n",
      "55回目： theta0 = 288.209, theta1 = 62.768, diff = 8598.6273\n",
      "56回目： theta0 = 291.028, theta1 = 63.398, diff = 8258.9218\n",
      "57回目： theta0 = 293.791, theta1 = 64.016, diff = 7932.6386\n",
      "58回目： theta0 = 296.498, theta1 = 64.621, diff = 7619.2472\n",
      "59回目： theta0 = 299.151, theta1 = 65.216, diff = 7318.2381\n",
      "60回目： theta0 = 301.751, theta1 = 65.799, diff = 7029.1222\n",
      "61回目： theta0 = 304.299, theta1 = 66.371, diff = 6751.4295\n",
      "62回目： theta0 = 306.796, theta1 = 66.932, diff = 6484.7085\n",
      "63回目： theta0 = 309.243, theta1 = 67.483, diff = 6228.5258\n",
      "64回目： theta0 = 311.641, theta1 = 68.023, diff = 5982.4648\n",
      "65回目： theta0 = 313.991, theta1 = 68.553, diff = 5746.1258\n",
      "66回目： theta0 = 316.294, theta1 = 69.072, diff = 5519.1244\n",
      "67回目： theta0 = 318.552, theta1 = 69.582, diff = 5301.0917\n",
      "68回目： theta0 = 320.764, theta1 = 70.082, diff = 5091.6734\n",
      "69回目： theta0 = 322.931, theta1 = 70.573, diff = 4890.5291\n",
      "70回目： theta0 = 325.056, theta1 = 71.054, diff = 4697.3318\n",
      "71回目： theta0 = 327.138, theta1 = 71.527, diff = 4511.7675\n",
      "72回目： theta0 = 329.178, theta1 = 71.990, diff = 4333.5346\n",
      "73回目： theta0 = 331.177, theta1 = 72.444, diff = 4162.3434\n",
      "74回目： theta0 = 333.137, theta1 = 72.890, diff = 3997.9157\n",
      "75回目： theta0 = 335.057, theta1 = 73.327, diff = 3839.9843\n",
      "76回目： theta0 = 336.939, theta1 = 73.756, diff = 3688.2924\n",
      "77回目： theta0 = 338.783, theta1 = 74.177, diff = 3542.5935\n",
      "78回目： theta0 = 340.590, theta1 = 74.590, diff = 3402.6509\n",
      "79回目： theta0 = 342.362, theta1 = 74.995, diff = 3268.2370\n",
      "80回目： theta0 = 344.097, theta1 = 75.393, diff = 3139.1334\n",
      "81回目： theta0 = 345.798, theta1 = 75.782, diff = 3015.1304\n",
      "82回目： theta0 = 347.465, theta1 = 76.165, diff = 2896.0263\n",
      "83回目： theta0 = 349.099, theta1 = 76.540, diff = 2781.6277\n",
      "84回目： theta0 = 350.700, theta1 = 76.908, diff = 2671.7485\n",
      "85回目： theta0 = 352.269, theta1 = 77.269, diff = 2566.2103\n",
      "86回目： theta0 = 353.807, theta1 = 77.623, diff = 2464.8415\n",
      "87回目： theta0 = 355.314, theta1 = 77.970, diff = 2367.4773\n",
      "88回目： theta0 = 356.790, theta1 = 78.311, diff = 2273.9597\n",
      "89回目： theta0 = 358.238, theta1 = 78.645, diff = 2184.1365\n",
      "90回目： theta0 = 359.656, theta1 = 78.973, diff = 2097.8618\n",
      "91回目： theta0 = 361.046, theta1 = 79.295, diff = 2014.9954\n",
      "92回目： theta0 = 362.408, theta1 = 79.611, diff = 1935.4026\n",
      "93回目： theta0 = 363.743, theta1 = 79.920, diff = 1858.9542\n",
      "94回目： theta0 = 365.051, theta1 = 80.224, diff = 1785.5258\n",
      "95回目： theta0 = 366.333, theta1 = 80.522, diff = 1714.9982\n",
      "96回目： theta0 = 367.589, theta1 = 80.814, diff = 1647.2567\n",
      "97回目： theta0 = 368.820, theta1 = 81.101, diff = 1582.1913\n",
      "98回目： theta0 = 370.027, theta1 = 81.383, diff = 1519.6963\n",
      "99回目： theta0 = 371.209, theta1 = 81.658, diff = 1459.6700\n",
      "100回目： theta0 = 372.368, theta1 = 81.929, diff = 1402.0150\n",
      "101回目： theta0 = 373.504, theta1 = 82.195, diff = 1346.6376\n",
      "102回目： theta0 = 374.617, theta1 = 82.455, diff = 1293.4478\n",
      "103回目： theta0 = 375.707, theta1 = 82.711, diff = 1242.3591\n",
      "104回目： theta0 = 376.776, theta1 = 82.962, diff = 1193.2885\n",
      "105回目： theta0 = 377.824, theta1 = 83.208, diff = 1146.1564\n",
      "106回目： theta0 = 378.850, theta1 = 83.449, diff = 1100.8861\n",
      "107回目： theta0 = 379.856, theta1 = 83.686, diff = 1057.4041\n",
      "108回目： theta0 = 380.842, theta1 = 83.918, diff = 1015.6398\n",
      "109回目： theta0 = 381.808, theta1 = 84.146, diff = 975.5252\n",
      "110回目： theta0 = 382.755, theta1 = 84.369, diff = 936.9952\n",
      "111回目： theta0 = 383.683, theta1 = 84.588, diff = 899.9871\n",
      "112回目： theta0 = 384.592, theta1 = 84.803, diff = 864.4410\n",
      "113回目： theta0 = 385.483, theta1 = 85.014, diff = 830.2990\n",
      "114回目： theta0 = 386.357, theta1 = 85.221, diff = 797.5056\n",
      "115回目： theta0 = 387.213, theta1 = 85.424, diff = 766.0076\n",
      "116回目： theta0 = 388.051, theta1 = 85.624, diff = 735.7537\n",
      "117回目： theta0 = 388.873, theta1 = 85.819, diff = 706.6949\n",
      "118回目： theta0 = 389.679, theta1 = 86.011, diff = 678.7840\n",
      "119回目： theta0 = 390.468, theta1 = 86.199, diff = 651.9755\n",
      "120回目： theta0 = 391.242, theta1 = 86.383, diff = 626.2259\n",
      "121回目： theta0 = 392.000, theta1 = 86.564, diff = 601.4935\n",
      "122回目： theta0 = 392.743, theta1 = 86.742, diff = 577.7380\n",
      "123回目： theta0 = 393.471, theta1 = 86.916, diff = 554.9207\n",
      "124回目： theta0 = 394.185, theta1 = 87.087, diff = 533.0048\n",
      "125回目： theta0 = 394.884, theta1 = 87.254, diff = 511.9545\n",
      "126回目： theta0 = 395.569, theta1 = 87.419, diff = 491.7356\n",
      "127回目： theta0 = 396.241, theta1 = 87.580, diff = 472.3154\n",
      "128回目： theta0 = 396.899, theta1 = 87.738, diff = 453.6622\n",
      "129回目： theta0 = 397.544, theta1 = 87.893, diff = 435.7458\n",
      "130回目： theta0 = 398.176, theta1 = 88.046, diff = 418.5371\n",
      "131回目： theta0 = 398.796, theta1 = 88.195, diff = 402.0081\n",
      "132回目： theta0 = 399.403, theta1 = 88.341, diff = 386.1319\n",
      "133回目： theta0 = 399.998, theta1 = 88.485, diff = 370.8828\n",
      "134回目： theta0 = 400.581, theta1 = 88.626, diff = 356.2360\n",
      "135回目： theta0 = 401.152, theta1 = 88.765, diff = 342.1676\n",
      "136回目： theta0 = 401.712, theta1 = 88.900, diff = 328.6550\n",
      "137回目： theta0 = 402.261, theta1 = 89.033, diff = 315.6760\n",
      "138回目： theta0 = 402.799, theta1 = 89.164, diff = 303.2097\n",
      "139回目： theta0 = 403.326, theta1 = 89.292, diff = 291.2357\n",
      "140回目： theta0 = 403.842, theta1 = 89.418, diff = 279.7346\n",
      "141回目： theta0 = 404.348, theta1 = 89.541, diff = 268.6878\n",
      "142回目： theta0 = 404.844, theta1 = 89.662, diff = 258.0773\n",
      "143回目： theta0 = 405.331, theta1 = 89.781, diff = 247.8859\n",
      "144回目： theta0 = 405.807, theta1 = 89.897, diff = 238.0969\n",
      "145回目： theta0 = 406.274, theta1 = 90.011, diff = 228.6946\n",
      "146回目： theta0 = 406.731, theta1 = 90.123, diff = 219.6636\n",
      "147回目： theta0 = 407.180, theta1 = 90.233, diff = 210.9893\n",
      "148回目： theta0 = 407.619, theta1 = 90.341, diff = 202.6576\n",
      "149回目： theta0 = 408.050, theta1 = 90.447, diff = 194.6550\n",
      "150回目： theta0 = 408.472, theta1 = 90.551, diff = 186.9683\n",
      "151回目： theta0 = 408.885, theta1 = 90.652, diff = 179.5853\n",
      "152回目： theta0 = 409.291, theta1 = 90.752, diff = 172.4938\n",
      "153回目： theta0 = 409.688, theta1 = 90.850, diff = 165.6825\n",
      "154回目： theta0 = 410.077, theta1 = 90.946, diff = 159.1401\n",
      "155回目： theta0 = 410.459, theta1 = 91.040, diff = 152.8560\n",
      "156回目： theta0 = 410.832, theta1 = 91.133, diff = 146.8202\n",
      "157回目： theta0 = 411.199, theta1 = 91.224, diff = 141.0227\n",
      "158回目： theta0 = 411.558, theta1 = 91.313, diff = 135.4542\n",
      "159回目： theta0 = 411.910, theta1 = 91.400, diff = 130.1056\n",
      "160回目： theta0 = 412.254, theta1 = 91.486, diff = 124.9682\n",
      "161回目： theta0 = 412.592, theta1 = 91.570, diff = 120.0337\n",
      "162回目： theta0 = 412.923, theta1 = 91.652, diff = 115.2941\n",
      "163回目： theta0 = 413.248, theta1 = 91.733, diff = 110.7417\n",
      "164回目： theta0 = 413.566, theta1 = 91.812, diff = 106.3690\n",
      "165回目： theta0 = 413.878, theta1 = 91.890, diff = 102.1690\n",
      "166回目： theta0 = 414.183, theta1 = 91.966, diff = 98.1349\n",
      "167回目： theta0 = 414.482, theta1 = 92.041, diff = 94.2600\n",
      "168回目： theta0 = 414.776, theta1 = 92.115, diff = 90.5382\n",
      "169回目： theta0 = 415.063, theta1 = 92.187, diff = 86.9634\n",
      "170回目： theta0 = 415.345, theta1 = 92.257, diff = 83.5297\n",
      "171回目： theta0 = 415.621, theta1 = 92.327, diff = 80.2317\n",
      "172回目： theta0 = 415.892, theta1 = 92.395, diff = 77.0638\n",
      "173回目： theta0 = 416.157, theta1 = 92.461, diff = 74.0211\n",
      "174回目： theta0 = 416.417, theta1 = 92.527, diff = 71.0985\n",
      "175回目： theta0 = 416.671, theta1 = 92.591, diff = 68.2913\n",
      "176回目： theta0 = 416.921, theta1 = 92.654, diff = 65.5950\n",
      "177回目： theta0 = 417.166, theta1 = 92.716, diff = 63.0051\n",
      "178回目： theta0 = 417.405, theta1 = 92.777, diff = 60.5176\n",
      "179回目： theta0 = 417.640, theta1 = 92.836, diff = 58.1282\n",
      "180回目： theta0 = 417.870, theta1 = 92.894, diff = 55.8332\n",
      "181回目： theta0 = 418.096, theta1 = 92.952, diff = 53.6288\n",
      "182回目： theta0 = 418.317, theta1 = 93.008, diff = 51.5115\n",
      "183回目： theta0 = 418.534, theta1 = 93.063, diff = 49.4778\n",
      "184回目： theta0 = 418.746, theta1 = 93.117, diff = 47.5243\n",
      "185回目： theta0 = 418.954, theta1 = 93.170, diff = 45.6480\n",
      "186回目： theta0 = 419.158, theta1 = 93.222, diff = 43.8458\n",
      "187回目： theta0 = 419.358, theta1 = 93.273, diff = 42.1148\n",
      "188回目： theta0 = 419.554, theta1 = 93.323, diff = 40.4521\n",
      "189回目： theta0 = 419.746, theta1 = 93.372, diff = 38.8551\n",
      "190回目： theta0 = 419.934, theta1 = 93.420, diff = 37.3211\n",
      "191回目： theta0 = 420.118, theta1 = 93.468, diff = 35.8477\n",
      "192回目： theta0 = 420.299, theta1 = 93.514, diff = 34.4324\n",
      "193回目： theta0 = 420.476, theta1 = 93.559, diff = 33.0731\n",
      "194回目： theta0 = 420.649, theta1 = 93.604, diff = 31.7674\n",
      "195回目： theta0 = 420.819, theta1 = 93.648, diff = 30.5133\n",
      "196回目： theta0 = 420.986, theta1 = 93.691, diff = 29.3087\n",
      "197回目： theta0 = 421.149, theta1 = 93.733, diff = 28.1516\n",
      "198回目： theta0 = 421.309, theta1 = 93.774, diff = 27.0403\n",
      "199回目： theta0 = 421.466, theta1 = 93.815, diff = 25.9728\n",
      "200回目： theta0 = 421.620, theta1 = 93.854, diff = 24.9475\n",
      "201回目： theta0 = 421.770, theta1 = 93.893, diff = 23.9626\n",
      "202回目： theta0 = 421.918, theta1 = 93.932, diff = 23.0167\n",
      "203回目： theta0 = 422.062, theta1 = 93.969, diff = 22.1080\n",
      "204回目： theta0 = 422.204, theta1 = 94.006, diff = 21.2353\n",
      "205回目： theta0 = 422.343, theta1 = 94.042, diff = 20.3970\n",
      "206回目： theta0 = 422.479, theta1 = 94.078, diff = 19.5918\n",
      "207回目： theta0 = 422.613, theta1 = 94.112, diff = 18.8184\n",
      "208回目： theta0 = 422.743, theta1 = 94.146, diff = 18.0756\n",
      "209回目： theta0 = 422.872, theta1 = 94.180, diff = 17.3620\n",
      "210回目： theta0 = 422.997, theta1 = 94.213, diff = 16.6767\n",
      "211回目： theta0 = 423.120, theta1 = 94.245, diff = 16.0184\n",
      "212回目： theta0 = 423.241, theta1 = 94.276, diff = 15.3861\n",
      "213回目： theta0 = 423.359, theta1 = 94.307, diff = 14.7787\n",
      "214回目： theta0 = 423.475, theta1 = 94.338, diff = 14.1953\n",
      "215回目： theta0 = 423.588, theta1 = 94.368, diff = 13.6350\n",
      "216回目： theta0 = 423.700, theta1 = 94.397, diff = 13.0968\n",
      "217回目： theta0 = 423.809, theta1 = 94.426, diff = 12.5798\n",
      "218回目： theta0 = 423.915, theta1 = 94.454, diff = 12.0832\n",
      "219回目： theta0 = 424.020, theta1 = 94.481, diff = 11.6063\n",
      "220回目： theta0 = 424.123, theta1 = 94.508, diff = 11.1482\n",
      "221回目： theta0 = 424.223, theta1 = 94.535, diff = 10.7081\n",
      "222回目： theta0 = 424.322, theta1 = 94.561, diff = 10.2854\n",
      "223回目： theta0 = 424.418, theta1 = 94.587, diff = 9.8795\n",
      "224回目： theta0 = 424.513, theta1 = 94.612, diff = 9.4895\n",
      "225回目： theta0 = 424.606, theta1 = 94.636, diff = 9.1149\n",
      "226回目： theta0 = 424.697, theta1 = 94.661, diff = 8.7552\n",
      "227回目： theta0 = 424.786, theta1 = 94.684, diff = 8.4096\n",
      "228回目： theta0 = 424.873, theta1 = 94.707, diff = 8.0777\n",
      "229回目： theta0 = 424.958, theta1 = 94.730, diff = 7.7588\n",
      "230回目： theta0 = 425.042, theta1 = 94.753, diff = 7.4526\n",
      "231回目： theta0 = 425.124, theta1 = 94.775, diff = 7.1584\n",
      "232回目： theta0 = 425.205, theta1 = 94.796, diff = 6.8759\n",
      "233回目： theta0 = 425.284, theta1 = 94.817, diff = 6.6045\n",
      "234回目： theta0 = 425.361, theta1 = 94.838, diff = 6.3438\n",
      "235回目： theta0 = 425.437, theta1 = 94.858, diff = 6.0935\n",
      "236回目： theta0 = 425.511, theta1 = 94.878, diff = 5.8530\n",
      "237回目： theta0 = 425.584, theta1 = 94.898, diff = 5.6220\n",
      "238回目： theta0 = 425.655, theta1 = 94.917, diff = 5.4001\n",
      "239回目： theta0 = 425.725, theta1 = 94.936, diff = 5.1869\n",
      "240回目： theta0 = 425.794, theta1 = 94.954, diff = 4.9822\n",
      "241回目： theta0 = 425.861, theta1 = 94.972, diff = 4.7856\n",
      "242回目： theta0 = 425.927, theta1 = 94.990, diff = 4.5967\n",
      "243回目： theta0 = 425.991, theta1 = 95.007, diff = 4.4153\n",
      "244回目： theta0 = 426.054, theta1 = 95.025, diff = 4.2410\n",
      "245回目： theta0 = 426.116, theta1 = 95.041, diff = 4.0737\n",
      "246回目： theta0 = 426.177, theta1 = 95.058, diff = 3.9129\n",
      "247回目： theta0 = 426.236, theta1 = 95.074, diff = 3.7585\n",
      "248回目： theta0 = 426.295, theta1 = 95.090, diff = 3.6101\n",
      "249回目： theta0 = 426.352, theta1 = 95.105, diff = 3.4677\n",
      "250回目： theta0 = 426.408, theta1 = 95.121, diff = 3.3308\n",
      "251回目： theta0 = 426.463, theta1 = 95.135, diff = 3.1994\n",
      "252回目： theta0 = 426.516, theta1 = 95.150, diff = 3.0731\n",
      "253回目： theta0 = 426.569, theta1 = 95.165, diff = 2.9518\n",
      "254回目： theta0 = 426.621, theta1 = 95.179, diff = 2.8353\n",
      "255回目： theta0 = 426.671, theta1 = 95.192, diff = 2.7234\n",
      "256回目： theta0 = 426.721, theta1 = 95.206, diff = 2.6160\n",
      "257回目： theta0 = 426.769, theta1 = 95.219, diff = 2.5127\n",
      "258回目： theta0 = 426.817, theta1 = 95.232, diff = 2.4136\n",
      "259回目： theta0 = 426.864, theta1 = 95.245, diff = 2.3183\n",
      "260回目： theta0 = 426.909, theta1 = 95.258, diff = 2.2268\n",
      "261回目： theta0 = 426.954, theta1 = 95.270, diff = 2.1390\n",
      "262回目： theta0 = 426.998, theta1 = 95.282, diff = 2.0546\n",
      "263回目： theta0 = 427.041, theta1 = 95.294, diff = 1.9735\n",
      "264回目： theta0 = 427.083, theta1 = 95.306, diff = 1.8956\n",
      "265回目： theta0 = 427.125, theta1 = 95.317, diff = 1.8208\n",
      "266回目： theta0 = 427.165, theta1 = 95.328, diff = 1.7490\n",
      "267回目： theta0 = 427.205, theta1 = 95.339, diff = 1.6799\n",
      "268回目： theta0 = 427.244, theta1 = 95.350, diff = 1.6137\n",
      "269回目： theta0 = 427.282, theta1 = 95.361, diff = 1.5500\n",
      "270回目： theta0 = 427.319, theta1 = 95.371, diff = 1.4888\n",
      "271回目： theta0 = 427.356, theta1 = 95.381, diff = 1.4301\n",
      "272回目： theta0 = 427.392, theta1 = 95.391, diff = 1.3736\n",
      "273回目： theta0 = 427.427, theta1 = 95.401, diff = 1.3194\n",
      "274回目： theta0 = 427.461, theta1 = 95.411, diff = 1.2674\n",
      "275回目： theta0 = 427.495, theta1 = 95.420, diff = 1.2174\n",
      "276回目： theta0 = 427.528, theta1 = 95.429, diff = 1.1693\n",
      "277回目： theta0 = 427.561, theta1 = 95.439, diff = 1.1232\n",
      "278回目： theta0 = 427.592, theta1 = 95.447, diff = 1.0789\n",
      "279回目： theta0 = 427.624, theta1 = 95.456, diff = 1.0363\n",
      "280回目： theta0 = 427.654, theta1 = 95.465, diff = 0.9954\n",
      "281回目： theta0 = 427.684, theta1 = 95.473, diff = 0.9561\n",
      "282回目： theta0 = 427.713, theta1 = 95.481, diff = 0.9184\n",
      "283回目： theta0 = 427.742, theta1 = 95.489, diff = 0.8822\n",
      "284回目： theta0 = 427.770, theta1 = 95.497, diff = 0.8474\n",
      "285回目： theta0 = 427.798, theta1 = 95.505, diff = 0.8139\n",
      "286回目： theta0 = 427.825, theta1 = 95.513, diff = 0.7818\n",
      "287回目： theta0 = 427.851, theta1 = 95.520, diff = 0.7510\n",
      "288回目： theta0 = 427.877, theta1 = 95.528, diff = 0.7213\n",
      "289回目： theta0 = 427.903, theta1 = 95.535, diff = 0.6929\n",
      "290回目： theta0 = 427.928, theta1 = 95.542, diff = 0.6655\n",
      "291回目： theta0 = 427.952, theta1 = 95.549, diff = 0.6393\n",
      "292回目： theta0 = 427.976, theta1 = 95.556, diff = 0.6141\n",
      "293回目： theta0 = 428.000, theta1 = 95.562, diff = 0.5898\n",
      "294回目： theta0 = 428.023, theta1 = 95.569, diff = 0.5666\n",
      "295回目： theta0 = 428.045, theta1 = 95.575, diff = 0.5442\n",
      "296回目： theta0 = 428.067, theta1 = 95.582, diff = 0.5227\n",
      "297回目： theta0 = 428.089, theta1 = 95.588, diff = 0.5021\n",
      "298回目： theta0 = 428.110, theta1 = 95.594, diff = 0.4823\n",
      "299回目： theta0 = 428.131, theta1 = 95.600, diff = 0.4633\n",
      "300回目： theta0 = 428.151, theta1 = 95.606, diff = 0.4450\n",
      "301回目： theta0 = 428.171, theta1 = 95.611, diff = 0.4274\n",
      "302回目： theta0 = 428.191, theta1 = 95.617, diff = 0.4106\n",
      "303回目： theta0 = 428.210, theta1 = 95.623, diff = 0.3944\n",
      "304回目： theta0 = 428.229, theta1 = 95.628, diff = 0.3788\n",
      "305回目： theta0 = 428.247, theta1 = 95.633, diff = 0.3639\n",
      "306回目： theta0 = 428.265, theta1 = 95.638, diff = 0.3495\n",
      "307回目： theta0 = 428.283, theta1 = 95.644, diff = 0.3357\n",
      "308回目： theta0 = 428.300, theta1 = 95.649, diff = 0.3225\n",
      "309回目： theta0 = 428.317, theta1 = 95.654, diff = 0.3098\n",
      "310回目： theta0 = 428.334, theta1 = 95.658, diff = 0.2976\n",
      "311回目： theta0 = 428.350, theta1 = 95.663, diff = 0.2858\n",
      "312回目： theta0 = 428.366, theta1 = 95.668, diff = 0.2745\n",
      "313回目： theta0 = 428.382, theta1 = 95.672, diff = 0.2637\n",
      "314回目： theta0 = 428.397, theta1 = 95.677, diff = 0.2533\n",
      "315回目： theta0 = 428.412, theta1 = 95.681, diff = 0.2433\n",
      "316回目： theta0 = 428.427, theta1 = 95.685, diff = 0.2337\n",
      "317回目： theta0 = 428.442, theta1 = 95.690, diff = 0.2245\n",
      "318回目： theta0 = 428.456, theta1 = 95.694, diff = 0.2156\n",
      "319回目： theta0 = 428.470, theta1 = 95.698, diff = 0.2071\n",
      "320回目： theta0 = 428.483, theta1 = 95.702, diff = 0.1990\n",
      "321回目： theta0 = 428.497, theta1 = 95.706, diff = 0.1911\n",
      "322回目： theta0 = 428.510, theta1 = 95.710, diff = 0.1836\n",
      "323回目： theta0 = 428.522, theta1 = 95.713, diff = 0.1763\n",
      "324回目： theta0 = 428.535, theta1 = 95.717, diff = 0.1694\n",
      "325回目： theta0 = 428.547, theta1 = 95.721, diff = 0.1627\n",
      "326回目： theta0 = 428.559, theta1 = 95.724, diff = 0.1563\n",
      "327回目： theta0 = 428.571, theta1 = 95.728, diff = 0.1501\n",
      "328回目： theta0 = 428.583, theta1 = 95.731, diff = 0.1442\n",
      "329回目： theta0 = 428.594, theta1 = 95.734, diff = 0.1385\n",
      "330回目： theta0 = 428.605, theta1 = 95.738, diff = 0.1330\n",
      "331回目： theta0 = 428.616, theta1 = 95.741, diff = 0.1278\n",
      "332回目： theta0 = 428.627, theta1 = 95.744, diff = 0.1228\n",
      "333回目： theta0 = 428.637, theta1 = 95.747, diff = 0.1179\n",
      "334回目： theta0 = 428.648, theta1 = 95.750, diff = 0.1133\n",
      "335回目： theta0 = 428.658, theta1 = 95.753, diff = 0.1088\n",
      "336回目： theta0 = 428.667, theta1 = 95.756, diff = 0.1045\n",
      "337回目： theta0 = 428.677, theta1 = 95.759, diff = 0.1004\n",
      "338回目： theta0 = 428.687, theta1 = 95.762, diff = 0.0964\n",
      "339回目： theta0 = 428.696, theta1 = 95.765, diff = 0.0926\n",
      "340回目： theta0 = 428.705, theta1 = 95.767, diff = 0.0890\n",
      "341回目： theta0 = 428.714, theta1 = 95.770, diff = 0.0855\n",
      "342回目： theta0 = 428.723, theta1 = 95.772, diff = 0.0821\n",
      "343回目： theta0 = 428.731, theta1 = 95.775, diff = 0.0789\n",
      "344回目： theta0 = 428.739, theta1 = 95.778, diff = 0.0757\n",
      "345回目： theta0 = 428.748, theta1 = 95.780, diff = 0.0728\n",
      "346回目： theta0 = 428.756, theta1 = 95.782, diff = 0.0699\n",
      "347回目： theta0 = 428.764, theta1 = 95.785, diff = 0.0671\n",
      "348回目： theta0 = 428.771, theta1 = 95.787, diff = 0.0645\n",
      "349回目： theta0 = 428.779, theta1 = 95.789, diff = 0.0619\n",
      "350回目： theta0 = 428.786, theta1 = 95.792, diff = 0.0595\n",
      "351回目： theta0 = 428.794, theta1 = 95.794, diff = 0.0572\n",
      "352回目： theta0 = 428.801, theta1 = 95.796, diff = 0.0549\n",
      "353回目： theta0 = 428.808, theta1 = 95.798, diff = 0.0527\n",
      "354回目： theta0 = 428.815, theta1 = 95.800, diff = 0.0507\n",
      "355回目： theta0 = 428.821, theta1 = 95.802, diff = 0.0487\n",
      "356回目： theta0 = 428.828, theta1 = 95.804, diff = 0.0467\n",
      "357回目： theta0 = 428.834, theta1 = 95.806, diff = 0.0449\n",
      "358回目： theta0 = 428.841, theta1 = 95.808, diff = 0.0431\n",
      "359回目： theta0 = 428.847, theta1 = 95.810, diff = 0.0414\n",
      "360回目： theta0 = 428.853, theta1 = 95.812, diff = 0.0398\n",
      "361回目： theta0 = 428.859, theta1 = 95.814, diff = 0.0382\n",
      "362回目： theta0 = 428.865, theta1 = 95.815, diff = 0.0367\n",
      "363回目： theta0 = 428.870, theta1 = 95.817, diff = 0.0353\n",
      "364回目： theta0 = 428.876, theta1 = 95.819, diff = 0.0339\n",
      "365回目： theta0 = 428.881, theta1 = 95.821, diff = 0.0325\n",
      "366回目： theta0 = 428.887, theta1 = 95.822, diff = 0.0313\n",
      "367回目： theta0 = 428.892, theta1 = 95.824, diff = 0.0300\n",
      "368回目： theta0 = 428.897, theta1 = 95.825, diff = 0.0288\n",
      "369回目： theta0 = 428.902, theta1 = 95.827, diff = 0.0277\n",
      "370回目： theta0 = 428.907, theta1 = 95.828, diff = 0.0266\n",
      "371回目： theta0 = 428.912, theta1 = 95.830, diff = 0.0256\n",
      "372回目： theta0 = 428.917, theta1 = 95.831, diff = 0.0246\n",
      "373回目： theta0 = 428.921, theta1 = 95.833, diff = 0.0236\n",
      "374回目： theta0 = 428.926, theta1 = 95.834, diff = 0.0227\n",
      "375回目： theta0 = 428.931, theta1 = 95.836, diff = 0.0218\n",
      "376回目： theta0 = 428.935, theta1 = 95.837, diff = 0.0209\n",
      "377回目： theta0 = 428.939, theta1 = 95.838, diff = 0.0201\n",
      "378回目： theta0 = 428.943, theta1 = 95.840, diff = 0.0193\n",
      "379回目： theta0 = 428.948, theta1 = 95.841, diff = 0.0185\n",
      "380回目： theta0 = 428.952, theta1 = 95.842, diff = 0.0178\n",
      "381回目： theta0 = 428.956, theta1 = 95.843, diff = 0.0171\n",
      "382回目： theta0 = 428.959, theta1 = 95.845, diff = 0.0164\n",
      "383回目： theta0 = 428.963, theta1 = 95.846, diff = 0.0158\n",
      "384回目： theta0 = 428.967, theta1 = 95.847, diff = 0.0152\n",
      "385回目： theta0 = 428.971, theta1 = 95.848, diff = 0.0146\n",
      "386回目： theta0 = 428.974, theta1 = 95.849, diff = 0.0140\n",
      "387回目： theta0 = 428.978, theta1 = 95.850, diff = 0.0134\n",
      "388回目： theta0 = 428.981, theta1 = 95.851, diff = 0.0129\n",
      "389回目： theta0 = 428.985, theta1 = 95.853, diff = 0.0124\n",
      "390回目： theta0 = 428.988, theta1 = 95.854, diff = 0.0119\n",
      "391回目： theta0 = 428.991, theta1 = 95.855, diff = 0.0114\n",
      "392回目： theta0 = 428.994, theta1 = 95.856, diff = 0.0110\n",
      "393回目： theta0 = 428.997, theta1 = 95.857, diff = 0.0105\n",
      "394回目： theta0 = 429.000, theta1 = 95.858, diff = 0.0101\n",
      "395回目： theta0 = 429.003, theta1 = 95.858, diff = 0.0097\n",
      "396回目： theta0 = 429.006, theta1 = 95.859, diff = 0.0094\n",
      "397回目： theta0 = 429.009, theta1 = 95.860, diff = 0.0090\n",
      "398回目： theta0 = 429.012, theta1 = 95.861, diff = 0.0086\n",
      "399回目： theta0 = 429.015, theta1 = 95.862, diff = 0.0083\n",
      "400回目： theta0 = 429.018, theta1 = 95.863, diff = 0.0080\n",
      "401回目： theta0 = 429.020, theta1 = 95.864, diff = 0.0076\n",
      "402回目： theta0 = 429.023, theta1 = 95.865, diff = 0.0073\n",
      "403回目： theta0 = 429.025, theta1 = 95.865, diff = 0.0071\n",
      "404回目： theta0 = 429.028, theta1 = 95.866, diff = 0.0068\n",
      "405回目： theta0 = 429.030, theta1 = 95.867, diff = 0.0065\n",
      "406回目： theta0 = 429.033, theta1 = 95.868, diff = 0.0063\n",
      "407回目： theta0 = 429.035, theta1 = 95.868, diff = 0.0060\n",
      "408回目： theta0 = 429.037, theta1 = 95.869, diff = 0.0058\n",
      "409回目： theta0 = 429.040, theta1 = 95.870, diff = 0.0055\n",
      "410回目： theta0 = 429.042, theta1 = 95.871, diff = 0.0053\n",
      "411回目： theta0 = 429.044, theta1 = 95.871, diff = 0.0051\n",
      "412回目： theta0 = 429.046, theta1 = 95.872, diff = 0.0049\n",
      "413回目： theta0 = 429.048, theta1 = 95.873, diff = 0.0047\n",
      "414回目： theta0 = 429.050, theta1 = 95.873, diff = 0.0045\n",
      "415回目： theta0 = 429.052, theta1 = 95.874, diff = 0.0044\n",
      "416回目： theta0 = 429.054, theta1 = 95.875, diff = 0.0042\n",
      "417回目： theta0 = 429.056, theta1 = 95.875, diff = 0.0040\n",
      "418回目： theta0 = 429.058, theta1 = 95.876, diff = 0.0039\n",
      "419回目： theta0 = 429.060, theta1 = 95.876, diff = 0.0037\n",
      "420回目： theta0 = 429.062, theta1 = 95.877, diff = 0.0036\n",
      "421回目： theta0 = 429.063, theta1 = 95.878, diff = 0.0034\n",
      "422回目： theta0 = 429.065, theta1 = 95.878, diff = 0.0033\n",
      "423回目： theta0 = 429.067, theta1 = 95.879, diff = 0.0032\n",
      "424回目： theta0 = 429.068, theta1 = 95.879, diff = 0.0030\n",
      "425回目： theta0 = 429.070, theta1 = 95.880, diff = 0.0029\n",
      "426回目： theta0 = 429.072, theta1 = 95.880, diff = 0.0028\n",
      "427回目： theta0 = 429.073, theta1 = 95.881, diff = 0.0027\n",
      "428回目： theta0 = 429.075, theta1 = 95.881, diff = 0.0026\n",
      "429回目： theta0 = 429.076, theta1 = 95.882, diff = 0.0025\n",
      "430回目： theta0 = 429.078, theta1 = 95.882, diff = 0.0024\n",
      "431回目： theta0 = 429.079, theta1 = 95.883, diff = 0.0023\n",
      "432回目： theta0 = 429.081, theta1 = 95.883, diff = 0.0022\n",
      "433回目： theta0 = 429.082, theta1 = 95.884, diff = 0.0021\n",
      "434回目： theta0 = 429.083, theta1 = 95.884, diff = 0.0020\n",
      "435回目： theta0 = 429.085, theta1 = 95.885, diff = 0.0019\n",
      "436回目： theta0 = 429.086, theta1 = 95.885, diff = 0.0019\n",
      "437回目： theta0 = 429.087, theta1 = 95.885, diff = 0.0018\n",
      "438回目： theta0 = 429.089, theta1 = 95.886, diff = 0.0017\n",
      "439回目： theta0 = 429.090, theta1 = 95.886, diff = 0.0017\n",
      "440回目： theta0 = 429.091, theta1 = 95.887, diff = 0.0016\n",
      "441回目： theta0 = 429.092, theta1 = 95.887, diff = 0.0015\n",
      "442回目： theta0 = 429.093, theta1 = 95.887, diff = 0.0015\n",
      "443回目： theta0 = 429.094, theta1 = 95.888, diff = 0.0014\n",
      "444回目： theta0 = 429.096, theta1 = 95.888, diff = 0.0014\n",
      "445回目： theta0 = 429.097, theta1 = 95.889, diff = 0.0013\n",
      "446回目： theta0 = 429.098, theta1 = 95.889, diff = 0.0013\n",
      "447回目： theta0 = 429.099, theta1 = 95.889, diff = 0.0012\n",
      "448回目： theta0 = 429.100, theta1 = 95.890, diff = 0.0012\n",
      "449回目： theta0 = 429.101, theta1 = 95.890, diff = 0.0011\n",
      "450回目： theta0 = 429.102, theta1 = 95.890, diff = 0.0011\n",
      "451回目： theta0 = 429.103, theta1 = 95.891, diff = 0.0010\n",
      "452回目： theta0 = 429.104, theta1 = 95.891, diff = 0.0010\n"
     ]
    }
   ],
   "source": [
    "# update param \n",
    "\n",
    "ETA = 1e-3\n",
    "\n",
    "# 誤算の差分\n",
    "diff = 1\n",
    "\n",
    "# 更新回数\n",
    "count = 0\n",
    "\n",
    "# 学習を繰り返す\n",
    "error = E(train_z, click_dat.y)\n",
    "\n",
    "while diff > 1e-3:\n",
    "    tmp0 = theta0 - ETA * np.sum(f(train_z) - click_dat.y)\n",
    "    tmp1 = theta1 - ETA * np.sum((f(train_z) - click_dat.y) * train_z)\n",
    "    \n",
    "    theta0 = tmp0\n",
    "    theta1 = tmp1\n",
    "    \n",
    "    current_error = E(train_z, click_dat.y)\n",
    "    diff = error - current_error\n",
    "    error = current_error\n",
    "    \n",
    "    count += 1\n",
    "    log = '{}回目： theta0 = {:.3f}, theta1 = {:.3f}, diff = {:.4f}'\n",
    "    print(log.format(count, theta0, theta1, diff))"
   ]
  },
  {
   "cell_type": "code",
   "execution_count": null,
   "metadata": {
    "collapsed": true
   },
   "outputs": [],
   "source": []
  },
  {
   "cell_type": "code",
   "execution_count": 10,
   "metadata": {
    "collapsed": false
   },
   "outputs": [
    {
     "data": {
      "text/plain": [
       "[<matplotlib.lines.Line2D at 0x1076c6b70>]"
      ]
     },
     "execution_count": 10,
     "metadata": {},
     "output_type": "execute_result"
    },
    {
     "data": {
      "image/png": "[encoded data removed]",
      "text/plain": [
       "<matplotlib.figure.Figure at 0x1076c6898>"
      ]
     },
     "metadata": {},
     "output_type": "display_data"
    }
   ],
   "source": [
    "x = np.linspace(-3, 3, 100)\n",
    "plt.plot(train_z, click_dat.y, 'o')\n",
    "plt.plot(x, f(x))"
   ]
  },
  {
   "cell_type": "markdown",
   "metadata": {},
   "source": [
    "## 2.4 多項式回帰の実装\n",
    "$$\n",
    "f_\\theta(x) = \\theta_0 + \\theta_1 x + \\theta_2 x^2\n",
    "$$"
   ]
  },
  {
   "cell_type": "code",
   "execution_count": 11,
   "metadata": {
    "collapsed": false
   },
   "outputs": [
    {
     "name": "stdout",
     "output_type": "stream",
     "text": [
      "theta:[ 8.59004248  2.71798244  8.98067644], diff : 145952.7716270038\n",
      "theta:[ 16.83060878   4.5001127   17.01371929], diff : 132395.43235039315\n",
      "theta:[ 24.75373594   6.25870056  24.57661669], diff : 120162.9047763655\n",
      "theta:[ 32.3747055    7.99358946  31.69385614], diff : 109124.13015504694\n",
      "theta:[ 39.70802812   9.70465724  38.3886717 ], diff : 99161.05870562163\n",
      "theta:[ 46.7674828   11.39181391  44.68310802], diff : 90167.3569705193\n",
      "theta:[ 53.56615409  13.05499953  50.59808101], diff : 82047.24366108538\n",
      "theta:[ 60.11646747  14.69418214  56.15343548], diff : 74714.44122076314\n",
      "theta:[ 66.43022285  16.30935588  61.3679998 ], diff : 68091.23160177725\n",
      "theta:[ 72.51862639  17.90053919  66.25963779], diff : 62107.60589505627\n",
      "theta:[ 78.39232075  19.4677731   70.84529796], diff : 56700.49848312407\n",
      "theta:[ 84.06141367  21.01111965  75.14106025], diff : 51813.09731331782\n",
      "theta:[ 89.53550525  22.53066032  79.16218036], diff : 47394.22272405273\n",
      "theta:[ 94.82371372  24.02649466  82.92313181], diff : 43397.76800919883\n",
      "theta:[ 99.93469994  25.49873893  86.4376459 ], diff : 39782.19558315922\n",
      "theta:[ 104.87669067   26.94752479   89.71874963], diff : 36510.08321940608\n",
      "theta:[ 109.65750061   28.37299814   92.77880159], diff : 33547.71538474155\n",
      "theta:[ 114.28455337   29.775318     95.62952616], diff : 30864.71518642688\n",
      "theta:[ 118.76490131   31.15465541   98.28204586], diff : 28433.712894986384\n",
      "theta:[ 123.10524441   32.51119245  100.74691208], diff : 26230.047406868078\n",
      "theta:[ 127.31194819   33.8451213   103.03413427], diff : 24231.49737259699\n",
      "theta:[ 131.39106068   35.15664333  105.1532076 ], diff : 22418.03904157679\n",
      "theta:[ 135.34832852   36.4459683   107.11313923], diff : 20771.628167869174\n",
      "theta:[ 139.1892123    37.71331353  108.92247324], diff : 19276.00358527701\n",
      "theta:[ 142.91890107   38.95890322  110.58931427], diff : 17916.51029783755\n",
      "theta:[ 146.54232607   40.18296768  112.12135   ], diff : 16679.940145950066\n",
      "theta:[ 150.0641739    41.38574275  113.52587241], diff : 15554.388301205181\n",
      "theta:[ 153.48889885   42.56746913  114.80979801], diff : 14529.124016651069\n",
      "theta:[ 156.82073471   43.72839186  115.97968704], diff : 13594.474215627648\n",
      "theta:[ 160.06370596   44.86875973  117.04176164], diff : 12741.718643159955\n",
      "theta:[ 163.22163837   45.98882479  118.00192317], diff : 11962.995430740644\n",
      "theta:[ 166.29816906   47.08884191  118.86576857], diff : 11251.216039579303\n",
      "theta:[ 169.29675608   48.16906826  119.63860592], diff : 10599.988650270156\n",
      "theta:[ 172.22068745   49.229763    120.32546922], diff : 10003.549159481772\n",
      "theta:[ 175.07308978   50.27118677  120.9311324 ], diff : 9456.699027719733\n",
      "theta:[ 177.85693647   51.29360144  121.46012257], diff : 8954.749297351053\n",
      "theta:[ 180.57505541   52.2972697   121.91673271], diff : 8493.470167760504\n",
      "theta:[ 183.23013638   53.28245476  122.30503359], diff : 8069.0455754498835\n",
      "theta:[ 185.82473802   54.24942005  122.62888515], diff : 7678.0322817873675\n",
      "theta:[ 188.36129444   55.19842898  122.89194728], diff : 7317.323020535812\n",
      "theta:[ 190.84212155   56.12974462  123.09769004], diff : 6984.113301813719\n",
      "theta:[ 193.26942301   57.04362954  123.2494034 ], diff : 6675.871509231336\n",
      "theta:[ 195.64529588   57.94034551  123.35020642], diff : 6390.311963047076\n",
      "theta:[ 197.97173604   58.82015336  123.40305602], diff : 6125.370654713275\n",
      "theta:[ 200.25064326   59.68331274  123.41075525], diff : 5879.183387455792\n",
      "theta:[ 202.48382604   60.53008198  123.37596119], diff : 5650.066083913232\n",
      "theta:[ 204.67300626   61.36071792  123.30119242], diff : 5436.497045604046\n",
      "theta:[ 206.81982348   62.17547573  123.1888361 ], diff : 5237.1009703887685\n",
      "theta:[ 208.92583912   62.97460883  123.04115467], diff : 5050.634553349984\n",
      "theta:[ 210.9925404    63.75836871  122.86029232], diff : 4875.973513868405\n",
      "theta:[ 213.02134404   64.52700484  122.64828095], diff : 4712.1009072929155\n",
      "theta:[ 215.01359982   65.28076457  122.40704601], diff : 4558.0965936751745\n",
      "theta:[ 216.97059395   66.01989301  122.13841186], diff : 4413.127748712228\n",
      "theta:[ 218.89355225   66.74463296  121.84410705], diff : 4276.440313453\n",
      "theta:[ 220.78364317   67.45522483  121.52576915], diff : 4147.351289601473\n",
      "theta:[ 222.64198069   68.15190656  121.18494948], diff : 4025.241796508257\n",
      "theta:[ 224.46962704   68.83491357  120.82311747], diff : 3909.5508142767067\n",
      "theta:[ 226.26759526   69.50447869  120.44166491], diff : 3799.769544919429\n",
      "theta:[ 228.03685173   70.16083212  120.04190991], diff : 3695.4363302606507\n",
      "theta:[ 229.7783184    70.80420136  119.62510068], diff : 3596.132071372005\n",
      "theta:[ 231.49287512   71.43481122  119.19241914], diff : 3501.4760998107377\n",
      "theta:[ 233.18136166   72.05288373  118.74498429], diff : 3411.122455872508\n",
      "theta:[ 234.84457972   72.65863815  118.28385547], diff : 3324.756533514068\n",
      "theta:[ 236.48329487   73.25229094  117.81003541], diff : 3242.0920556138153\n",
      "theta:[ 238.0982383    73.83405572  117.32447316], diff : 3162.86834683927\n",
      "theta:[ 239.69010855   74.40414329  116.82806682], diff : 3086.8478746470937\n",
      "theta:[ 241.25957311   74.96276159  116.32166616], diff : 3013.8140318628575\n",
      "theta:[ 242.80726999   75.51011569  115.80607516], diff : 2943.569136924896\n",
      "theta:[ 244.33380916   76.04640781  115.2820543 ], diff : 2875.932630253519\n",
      "theta:[ 245.83977394   76.57183729  114.75032282], diff : 2810.7394473384775\n",
      "theta:[ 247.32572233   77.08660063  114.21156089], diff : 2747.838551071327\n",
      "theta:[ 248.79218823   77.59089146  113.66641155], diff : 2687.0916075749265\n",
      "theta:[ 250.23968264   78.08490053  113.11548268], diff : 2628.371791353682\n",
      "theta:[ 251.66869482   78.5688158   112.55934877], diff : 2571.562706984754\n",
      "theta:[ 253.0796933    79.04282234  111.9985527 ], diff : 2516.5574158471427\n",
      "theta:[ 254.47312693   79.50710244  111.43360731], diff : 2463.2575575194787\n",
      "theta:[ 255.84942585   79.96183557  110.864997  ], diff : 2411.57255650952\n",
      "theta:[ 257.20900239   80.40719842  110.29317917], diff : 2361.418905902363\n",
      "theta:[ 258.55225194   80.8433649   109.71858564], diff : 2312.719520348168\n",
      "theta:[ 259.87955377   81.27050618  109.14162394], diff : 2265.403151561768\n",
      "theta:[ 261.19127184   81.68879069  108.5626786 ], diff : 2219.4038601826323\n",
      "theta:[ 262.48775551   82.09838417  107.98211234], diff : 2174.6605384537543\n",
      "theta:[ 263.76934027   82.49944966  107.40026719], diff : 2131.1164787241432\n",
      "theta:[ 265.03634839   82.89214755  106.81746556], diff : 2088.7189832785807\n",
      "theta:[ 266.28908957   83.2766356   106.23401126], diff : 2047.4190114386001\n",
      "theta:[ 267.52786157   83.65306896  105.65019049], diff : 2007.1708602827566\n",
      "theta:[ 268.75295072   84.02160019  105.06627272], diff : 1967.9318756946886\n",
      "theta:[ 269.96463252   84.38237931  104.4825116 ], diff : 1929.6621907726512\n",
      "theta:[ 271.16317215   84.73555382  103.89914573], diff : 1892.3244889280177\n",
      "theta:[ 272.34882494   85.0812687   103.31639953], diff : 1855.8837892626761\n",
      "theta:[ 273.52183685   85.41966649  102.73448389], diff : 1820.3072520554852\n",
      "theta:[ 274.68244492   85.75088727  102.15359692], diff : 1785.5640024000022\n",
      "theta:[ 275.83087768   86.07506874  101.57392464], diff : 1751.6249702303612\n",
      "theta:[ 276.96735556   86.3923462   100.99564157], diff : 1718.4627451450215\n",
      "theta:[ 278.09209126   86.7028526   100.41891137], diff : 1686.051444594399\n",
      "theta:[ 279.20529011   87.00671861   99.84388738], diff : 1654.3665941421204\n",
      "theta:[ 280.30715045   87.30407256   99.27071317], diff : 1623.3850186328054\n",
      "theta:[ 281.39786389   87.59504057   98.69952309], diff : 1593.0847432177252\n",
      "theta:[ 282.47761568   87.87974653   98.1304427 ], diff : 1563.4449032890261\n",
      "theta:[ 283.54658495   88.15831211   97.56358928], diff : 1534.4456624710874\n",
      "theta:[ 284.60494506   88.43085685   96.99907225], diff : 1506.0681378961453\n",
      "theta:[ 285.65286378   88.69749814   96.43699356], diff : 1478.294332069665\n",
      "theta:[ 286.69050363   88.95835128   95.87744817], diff : 1451.107070700833\n",
      "theta:[ 287.71802204   89.2135295    95.3205243 ], diff : 1424.4899459287117\n",
      "theta:[ 288.73557164   89.463144     94.76630391], diff : 1398.427264437647\n",
      "theta:[ 289.74330043   89.70730394   94.21486296], diff : 1372.903999998336\n",
      "theta:[ 290.74135203   89.94611655   93.66627173], diff : 1347.9057500212366\n",
      "theta:[ 291.72986582   90.17968707   93.12059519], diff : 1323.418695745524\n",
      "theta:[ 292.7089772    90.40811886   92.5778932 ], diff : 1299.4295657254406\n",
      "theta:[ 293.67881768   90.63151337   92.03822085], diff : 1275.9256023086782\n",
      "theta:[ 294.63951513   90.8499702    91.50162869], diff : 1252.8945308297116\n",
      "theta:[ 295.59119389   91.06358712   90.96816298], diff : 1230.3245312689105\n",
      "theta:[ 296.53397491   91.27246011   90.43786593], diff : 1208.2042121523555\n",
      "theta:[ 297.46797596   91.47668337   89.91077591], diff : 1186.5225864881504\n",
      "theta:[ 298.3933117    91.67634936   89.38692765], diff : 1165.269049555107\n",
      "theta:[ 299.31009384   91.87154884   88.86635249], diff : 1144.4333583778352\n",
      "theta:[ 300.21843127   92.06237087   88.3490785 ], diff : 1124.00561273731\n",
      "theta:[ 301.11843015   92.24890287   87.8351307 ], diff : 1103.9762375802675\n",
      "theta:[ 302.01019406   92.43123062   87.32453123], diff : 1084.3359667055338\n",
      "theta:[ 302.89382409   92.6094383    86.81729949], diff : 1065.075827614477\n",
      "theta:[ 303.76941892   92.78360852   86.31345232], diff : 1046.1871274248988\n",
      "theta:[ 304.63707494   92.95382233   85.81300412], diff : 1027.661439757474\n",
      "theta:[ 305.49688637   93.12015928   85.31596699], diff : 1009.4905925117637\n",
      "theta:[ 306.34894527   93.28269741   84.82235087], diff : 991.6666564554398\n",
      "theta:[ 307.19334169   93.44151328   84.33216367], diff : 974.1819345606273\n",
      "theta:[ 308.03016375   93.59668203   83.84541136], diff : 957.0289520240985\n",
      "theta:[ 308.85949766   93.74827736   83.36209812], diff : 940.2004469159001\n",
      "theta:[ 309.68142784   93.89637159   82.88222639], diff : 923.6893614051878\n",
      "theta:[ 310.49603698   94.04103565   82.40579704], diff : 907.4888335172072\n",
      "theta:[ 311.3034061    94.18233914   81.9328094 ], diff : 891.5921893797058\n",
      "theta:[ 312.1036146    94.32035034   81.46326138], diff : 875.9929359197777\n",
      "theta:[ 312.89674034   94.45513621   80.99714957], diff : 860.6847539768132\n",
      "theta:[ 313.68285969   94.58676244   80.53446926], diff : 845.6614918003906\n",
      "theta:[ 314.46204758   94.71529349   80.07521461], diff : 830.9171589030593\n",
      "theta:[ 315.23437755   94.84079256   79.61937863], diff : 816.445920242717\n",
      "theta:[ 315.99992181   94.96332164   79.1669533 ], diff : 802.2420907106207\n",
      "theta:[ 316.75875126   95.08294155   78.71792964], diff : 788.3001299016541\n",
      "theta:[ 317.51093557   95.19971194   78.27229772], diff : 774.6146371493232\n",
      "theta:[ 318.2565432    95.31369129   77.83004678], diff : 761.1803468047437\n",
      "theta:[ 318.99564145   95.42493698   77.39116526], diff : 747.9921237443414\n",
      "theta:[ 319.72829648   95.53350528   76.95564083], diff : 735.0449590902717\n",
      "theta:[ 320.45457338   95.63945137   76.52346046], diff : 722.333966130107\n",
      "theta:[ 321.17453616   95.74282937   76.0946105 ], diff : 709.854376421994\n",
      "theta:[ 321.88824784   95.84369235   75.66907664], diff : 697.6015360741803\n",
      "theta:[ 322.59577042   95.94209235   75.24684405], diff : 685.5709021877119\n",
      "theta:[ 323.29716498   96.03808041   74.82789734], diff : 673.758039452383\n",
      "theta:[ 323.99249163   96.13170659   74.41222065], diff : 662.1586168862414\n",
      "theta:[ 324.6818096    96.22301995   73.99979765], diff : 650.7684047110597\n",
      "theta:[ 325.36517726   96.31206861   73.5906116 ], diff : 639.5832713549826\n",
      "theta:[ 326.04265209   96.39889977   73.18464536], diff : 628.5991805754311\n",
      "theta:[ 326.71429079   96.48355969   72.78188146], diff : 617.812188695847\n",
      "theta:[ 327.38014922   96.56609375   72.38230207], diff : 607.2184419494588\n",
      "theta:[ 328.0402825    96.64654641   71.98588906], diff : 596.8141739247221\n",
      "theta:[ 328.69474496   96.7249613    71.59262404], diff : 586.5957031068247\n",
      "theta:[ 329.3435902    96.80138117   71.20248836], diff : 576.5594305106497\n",
      "theta:[ 329.98687112   96.87584796   70.81546312], diff : 566.701837399909\n",
      "theta:[ 330.6246399    96.94840276   70.43152925], diff : 557.0194830889377\n",
      "theta:[ 331.25694804   97.01908587   70.05066746], diff : 547.509002822102\n",
      "theta:[ 331.8838464   97.0879368   69.6728583], diff : 538.1671057282874\n",
      "theta:[ 332.50538517   97.15499429   69.29808218], diff : 528.9905728458689\n",
      "theta:[ 333.1216139    97.2202963    68.92631936], diff : 519.9762552152752\n",
      "theta:[ 333.73258156   97.28388006   68.55755   ], diff : 511.12107203649794\n",
      "theta:[ 334.33833647   97.34578207   68.19175414], diff : 502.4220088875736\n",
      "theta:[ 334.93892642   97.40603808   67.82891174], diff : 493.876116002466\n",
      "theta:[ 335.53439856   97.46468318   67.4690027 ], diff : 485.4805066053159\n",
      "theta:[ 336.12479954   97.52175173   67.11200684], diff : 477.23235529803424\n",
      "theta:[ 336.71017542   97.57727744   66.75790394], diff : 469.12889650020225\n",
      "theta:[ 337.29057174   97.63129333   66.40667374], diff : 461.16742293821517\n",
      "theta:[ 337.8660335    97.68383177   66.05829597], diff : 453.3452841817234\n",
      "theta:[ 338.43660521   97.73492452   65.71275031], diff : 445.6598852259958\n",
      "theta:[ 339.00233085   97.78460266   65.37001646], diff : 438.10868511769877\n",
      "theta:[ 339.56325392   97.83289669   65.03007413], diff : 430.6891956229738\n",
      "theta:[ 340.11941743   97.87983649   64.69290301], diff : 423.3989799358351\n",
      "theta:[ 340.67086393   97.92545136   64.35848283], diff : 416.2356514251733\n",
      "theta:[ 341.21763547   97.96976999   64.02679335], diff : 409.1968724195467\n",
      "theta:[ 341.75977369   98.01282054   63.69781435], diff : 402.2803530277706\n",
      "theta:[ 342.29731974   98.05463056   63.37152566], diff : 395.4838499941143\n",
      "theta:[ 342.83031436   98.09522709   63.04790716], diff : 388.8051655869094\n",
      "theta:[ 343.35879784   98.13463661   62.72693876], diff : 382.24214651950024\n",
      "theta:[ 343.88281005   98.17288508   62.40860045], diff : 375.7926829020689\n",
      "theta:[ 344.40239044   98.20999794   62.09287228], diff : 369.454707223329\n",
      "theta:[ 344.91757805   98.24600012   61.77973436], diff : 363.2261933613263\n",
      "theta:[ 345.42841154   98.28091604   61.46916688], diff : 357.1051556220991\n",
      "theta:[ 345.93492914   98.31476965   61.16115009], diff : 351.08964780489623\n",
      "theta:[ 346.4371687    98.34758441   60.85566435], diff : 345.17776229385345\n",
      "theta:[ 346.93516771   98.37938331   60.55269008], diff : 339.3676291745869\n",
      "theta:[ 347.42896324   98.41018887   60.25220779], diff : 333.65741537506256\n",
      "theta:[ 347.91859203   98.44002317   59.95419808], diff : 328.045323829916\n",
      "theta:[ 348.40409042   98.46890784   59.65864166], diff : 322.52959266755715\n",
      "theta:[ 348.88549442   98.49686407   59.36551931], diff : 317.1084944190625\n",
      "theta:[ 349.36283967   98.52391262   59.07481193], diff : 311.7803352486044\n",
      "theta:[ 349.83616145   98.55007386   58.78650051], diff : 306.5434542040166\n",
      "theta:[ 350.30549471   98.57536771   58.50056614], diff : 301.3962224876377\n",
      "theta:[ 350.77087406   98.59981371   58.21699003], diff : 296.33704274600314\n",
      "theta:[ 351.23233377   98.62343099   57.93575349], diff : 291.3643483787164\n",
      "theta:[ 351.68990778   98.64623831   57.65683793], diff : 286.47660286481914\n",
      "theta:[ 352.1436297    98.66825403   57.38022487], diff : 281.6722991070783\n",
      "theta:[ 352.59353283   98.68949616   57.10589595], diff : 276.94995879288035\n",
      "theta:[ 353.03965015   98.70998232   56.83383292], diff : 272.308131771897\n",
      "theta:[ 353.48201433   98.7297298    56.56401765], diff : 267.7453954493649\n",
      "theta:[ 353.9206577    98.74875551   56.29643212], diff : 263.2603541949975\n",
      "theta:[ 354.35561234   98.76707603   56.03105841], diff : 258.85163876676233\n",
      "theta:[ 354.78690998   98.78470759   55.76787873], diff : 254.51790574922416\n",
      "theta:[ 355.21458209   98.80166612   55.50687543], diff : 250.25783700602915\n",
      "theta:[ 355.63865981   98.81796718   55.24803093], diff : 246.07013914576964\n",
      "theta:[ 356.05917403   98.83362606   54.9913278 ], diff : 241.95354300142571\n",
      "theta:[ 356.47615532   98.84865769   54.73674872], diff : 237.90680312260156\n",
      "theta:[ 356.88963399   98.86307672   54.4842765 ], diff : 233.92869728005098\n",
      "theta:[ 357.29964005   98.8768975    54.23389406], diff : 230.0180259824665\n",
      "theta:[ 357.70620327   98.89013409   53.98558443], diff : 226.17361200522646\n",
      "theta:[ 358.1093531    98.90280023   53.73933078], diff : 222.39429993000158\n",
      "theta:[ 358.50911875   98.91490942   53.49511638], diff : 218.678955696123\n",
      "theta:[ 358.90552916   98.92647485   53.25292463], diff : 215.02646616225502\n",
      "theta:[ 359.29861301   98.93750945   53.01273906], diff : 211.4357386788124\n",
      "theta:[ 359.68839871   98.94802589   52.77454329], diff : 207.9057006703024\n",
      "theta:[ 360.07491441   98.95803656   52.5383211 ], diff : 204.43529922790913\n",
      "theta:[ 360.45818802   98.96755362   52.30405636], diff : 201.02350071113506\n",
      "theta:[ 360.83824719   98.97658895   52.07173306], diff : 197.6692903595722\n",
      "theta:[ 361.21511932   98.98515419   51.84133533], diff : 194.3716719127915\n",
      "theta:[ 361.58883156   98.99326077   51.6128474 ], diff : 191.12966724002945\n",
      "theta:[ 361.95941083   99.00091983   51.38625362], diff : 187.94231597761063\n",
      "theta:[ 362.3268838    99.00814233   51.16153847], diff : 184.80867517548177\n",
      "theta:[ 362.69127689   99.01493896   50.93868653], diff : 181.7278189510689\n",
      "theta:[ 363.05261631   99.02132021   50.71768252], diff : 178.69883815182948\n",
      "theta:[ 363.41092801   99.02729634   50.49851125], diff : 175.72084002492375\n",
      "theta:[ 363.76623774   99.03287742   50.28115768], diff : 172.79294789460073\n",
      "theta:[ 364.11857099   99.03807327   50.06560686], diff : 169.91430084683088\n",
      "theta:[ 364.46795304   99.04289354   49.85184395], diff : 167.08405342102196\n",
      "theta:[ 364.81440894   99.04734765   49.63985426], diff : 164.3013753085943\n",
      "theta:[ 365.15796353   99.05144485   49.42962318], diff : 161.56545105830992\n",
      "theta:[ 365.49864142   99.05519416   49.22113623], diff : 158.87547978821567\n",
      "theta:[ 365.836467     99.05860445   49.01437904], diff : 156.23067490370704\n",
      "theta:[ 366.17146446   99.06168437   48.80933735], diff : 153.63026382212956\n",
      "theta:[ 366.50365776   99.0644424    48.60599702], diff : 151.07348770312456\n",
      "theta:[ 366.83307067   99.06688686   48.40434401], diff : 148.55960118499206\n",
      "theta:[ 367.15972672   99.06902585   48.20436441], diff : 146.08787212687093\n",
      "theta:[ 367.48364926   99.07086733   48.0060444 ], diff : 143.65758135625038\n",
      "theta:[ 367.80486143   99.0724191    47.80937029], diff : 141.2680224222877\n",
      "theta:[ 368.12338617   99.07368876   47.61432847], diff : 138.91850135397726\n",
      "theta:[ 368.4392462    99.07468378   47.42090546], diff : 136.6083364239803\n",
      "theta:[ 368.75246407   99.07541145   47.2290879 ], diff : 134.3368579170692\n",
      "theta:[ 369.06306212   99.07587891   47.0388625 ], diff : 132.10340790376722\n",
      "theta:[ 369.37106249   99.07609315   46.85021611], diff : 129.90734001872806\n",
      "theta:[ 369.67648714   99.07606102   46.66313567], diff : 127.74801924358508\n",
      "theta:[ 369.97935781   99.0757892    46.47760823], diff : 125.62482169478244\n",
      "theta:[ 370.2796961    99.07528424   46.29362094], diff : 123.53713441528089\n",
      "theta:[ 370.57752338   99.07455256   46.11116106], diff : 121.48435517117832\n",
      "theta:[ 370.87286085   99.07360041   45.93021594], diff : 119.4658922521503\n",
      "theta:[ 371.16572953   99.07243394   45.75077306], diff : 117.481164276247\n",
      "theta:[ 371.45615026   99.07105914   45.57281996], diff : 115.52959999856466\n",
      "theta:[ 371.74414367   99.0694819    45.39634432], diff : 113.61063812403518\n",
      "theta:[ 372.02973026   99.06770795   45.2213339 ], diff : 111.72372712382094\n",
      "theta:[ 372.31293031   99.06574291   45.04777657], diff : 109.86832505566053\n",
      "theta:[ 372.59376395   99.06359227   44.87566028], diff : 108.04389938782515\n",
      "theta:[ 372.87225112   99.06126143   44.7049731 ], diff : 106.24992682648372\n",
      "theta:[ 373.14841161   99.05875563   44.53570318], diff : 104.48589314686433\n",
      "theta:[ 373.42226502   99.05608002   44.36783878], diff : 102.75129302753703\n",
      "theta:[ 373.69383078   99.05323963   44.20136826], diff : 101.04562988812904\n",
      "theta:[ 373.96312817   99.05023939   44.03628005], diff : 99.36841573039783\n",
      "theta:[ 374.23017628   99.04708411   43.8725627 ], diff : 97.71917098228914\n",
      "theta:[ 374.49499407   99.04377848   43.71020484], diff : 96.09742434510918\n",
      "theta:[ 374.75760029   99.04032712   43.5491952 ], diff : 94.50271264406001\n",
      "theta:[ 375.01801358   99.03673453   43.38952259], diff : 92.93458068121072\n",
      "theta:[ 375.27625238   99.03300511   43.23117594], diff : 91.39258109181355\n",
      "theta:[ 375.53233499   99.02914315   43.07414424], diff : 89.87627420314493\n",
      "theta:[ 375.78627955   99.02515287   42.91841658], diff : 88.38522789630224\n",
      "theta:[ 376.03810404   99.02103839   42.76398215], diff : 86.9190174706946\n",
      "theta:[ 376.2878263    99.01680371   42.61083022], diff : 85.47722551096922\n",
      "theta:[ 376.535464     99.01245278   42.45895014], diff : 84.05944175677723\n",
      "theta:[ 376.78103467   99.00798943   42.30833137], diff : 82.66526297496239\n",
      "theta:[ 377.02455568   99.00341742   42.15896344], diff : 81.29429283416084\n",
      "theta:[ 377.26604426   98.99874042   42.01083597], diff : 79.94614178193751\n",
      "theta:[ 377.50551749   98.99396202   41.86393866], diff : 78.62042692418163\n",
      "theta:[ 377.74299231   98.98908573   41.71826131], diff : 77.31677190683695\n",
      "theta:[ 377.97848549   98.98411498   41.57379378], diff : 76.03480680003759\n",
      "theta:[ 378.2120137    98.9790531    41.43052605], diff : 74.7741679841547\n",
      "theta:[ 378.44359343   98.97390338   41.28844815], diff : 73.53449803831882\n",
      "theta:[ 378.67324105   98.96866901   41.1475502 ], diff : 72.31544563089938\n",
      "theta:[ 378.90097278   98.96335312   41.00782241], diff : 71.11666541203613\n",
      "theta:[ 379.12680469   98.95795876   40.86925506], diff : 69.93781790829871\n",
      "theta:[ 379.35075275   98.9524889    40.73183852], diff : 68.7785694193226\n",
      "theta:[ 379.57283277   98.94694647   40.59556324], diff : 67.63859191627307\n",
      "theta:[ 379.79306041   98.9413343    40.46041974], diff : 66.51756294230654\n",
      "theta:[ 380.01145123   98.93565518   40.32639863], diff : 65.41516551493896\n",
      "theta:[ 380.22802063   98.92991182   40.19349058], diff : 64.3310880301251\n",
      "theta:[ 380.4427839    98.92410687   40.06168635], diff : 63.26502416816311\n",
      "theta:[ 380.65575618   98.91824292   39.93097678], diff : 62.216672801441746\n",
      "theta:[ 380.86695249   98.91232249   39.80135278], diff : 61.18573790372557\n",
      "theta:[ 381.07638774   98.90634805   39.67280534], diff : 60.17192846130365\n",
      "theta:[ 381.28407669   98.90032201   39.54532551], diff : 59.17495838562809\n",
      "theta:[ 381.49003397   98.89424673   39.41890442], diff : 58.194546427646856\n",
      "theta:[ 381.6942741    98.88812449   39.29353329], diff : 57.23041609372922\n",
      "theta:[ 381.89681149   98.88195755   39.1692034 ], diff : 56.28229556297629\n",
      "theta:[ 382.09766039   98.87574807   39.0459061 ], diff : 55.34991760635694\n",
      "theta:[ 382.29683497   98.86949821   38.92363282], diff : 54.43301950701425\n",
      "theta:[ 382.49434925   98.86321005   38.80237504], diff : 53.53134298211171\n",
      "theta:[ 382.69021714   98.8568856    38.68212434], diff : 52.6446341062383\n",
      "theta:[ 382.88445243   98.85052687   38.56287235], diff : 51.7726432360696\n",
      "theta:[ 383.07706881   98.84413577   38.44461077], diff : 50.915124936427674\n",
      "theta:[ 383.26807983   98.83771421   38.32733139], diff : 50.0718379076834\n",
      "theta:[ 383.45749893   98.83126402   38.21102604], diff : 49.2425449144921\n",
      "theta:[ 383.64533946   98.82478699   38.09568664], diff : 48.42701271579244\n",
      "theta:[ 383.83161463   98.81828487   37.98130515], diff : 47.62501199612234\n",
      "theta:[ 384.01633754   98.81175938   37.86787363], diff : 46.836317298015274\n",
      "theta:[ 384.19952119   98.80521218   37.75538419], diff : 46.06070695584185\n",
      "theta:[ 384.38117846   98.79864488   37.64382899], diff : 45.29796303069361\n",
      "theta:[ 384.56132214   98.79205908   37.53320028], diff : 44.54787124639461\n",
      "theta:[ 384.73996489   98.7854563    37.42349037], diff : 43.810220926767215\n",
      "theta:[ 384.91711928   98.77883807   37.31469162], diff : 43.08480493398747\n",
      "theta:[ 385.09279775   98.77220583   37.20679646], diff : 42.371419608003634\n",
      "theta:[ 385.26701267   98.76556102   37.09979739], diff : 41.669864707064335\n",
      "theta:[ 385.43977626   98.75890502   36.99368696], diff : 40.979943349278074\n",
      "theta:[ 385.61110068   98.7522392    36.8884578 ], diff : 40.30146195527868\n",
      "theta:[ 385.78099797   98.74556486   36.78410259], diff : 39.6342301917648\n",
      "theta:[ 385.94948006   98.7388833    36.68061405], diff : 38.97806091625807\n",
      "theta:[ 386.1165588    98.73219575   36.577985  ], diff : 38.33277012256167\n",
      "theta:[ 386.2822459    98.72550346   36.4762083 ], diff : 37.698176887467525\n",
      "theta:[ 386.44655303   98.71880758   36.37527687], diff : 37.07410331819665\n",
      "theta:[ 386.60949171   98.71210929   36.27518368], diff : 36.46037450086169\n",
      "theta:[ 386.77107338   98.7054097    36.17592177], diff : 35.85681844975443\n",
      "theta:[ 386.9313094    98.6987099    36.07748423], diff : 35.26326605768463\n",
      "theta:[ 387.09021101   98.69201096   35.97986423], diff : 34.67955104698194\n",
      "theta:[ 387.24778937   98.68531391   35.88305497], diff : 34.10550992155822\n",
      "theta:[ 387.40405554   98.67861976   35.78704971], diff : 33.540981919608384\n",
      "theta:[ 387.55902049   98.67192948   35.69184177], diff : 32.98580896734984\n",
      "theta:[ 387.71269508   98.66524403   35.59742453], diff : 32.43983563337861\n",
      "theta:[ 387.86509011   98.65856433   35.50379143], diff : 31.902909083942177\n",
      "theta:[ 388.01621628   98.65189127   35.41093596], diff : 31.374879038987274\n",
      "theta:[ 388.16608417   98.64522574   35.31885164], diff : 30.855597728846988\n",
      "theta:[ 388.3147043    98.63856857   35.22753207], diff : 30.344919851903796\n",
      "theta:[ 388.46208711   98.63192059   35.13697092], diff : 29.842702532760086\n",
      "theta:[ 388.60824292   98.6252826    35.04716186], diff : 29.34880528126814\n",
      "theta:[ 388.75318198   98.61865538   34.95809866], diff : 28.863089952286828\n",
      "theta:[ 388.89691447   98.61203968   34.86977512], diff : 28.38542070596759\n",
      "theta:[ 389.03945045   98.60543622   34.78218509], diff : 27.915663968989975\n",
      "theta:[ 389.18079993   98.59884573   34.69532249], diff : 27.453688396250982\n",
      "theta:[ 389.3209728    98.59226889   34.60918127], diff : 26.999364833262007\n",
      "theta:[ 389.4599789    98.58570636   34.52375544], diff : 26.552566279292478\n",
      "theta:[ 389.59782797   98.57915879   34.43903906], diff : 26.11316785103918\n",
      "theta:[ 389.73452967   98.57262681   34.35502623], diff : 25.681046746965876\n",
      "theta:[ 389.87009358   98.56611103   34.27171111], diff : 25.256082212265028\n",
      "theta:[ 390.00452919   98.55961204   34.1890879 ], diff : 24.838155504416136\n",
      "theta:[ 390.13784594   98.5531304    34.10715086], diff : 24.42714985933162\n",
      "theta:[ 390.27005315   98.54666667   34.02589428], diff : 24.022950457998377\n",
      "theta:[ 390.4011601    98.54022138   33.94531252], diff : 23.625444394000624\n",
      "theta:[ 390.53117596   98.53379504   33.86539997], diff : 23.234520641074596\n",
      "theta:[ 390.66010984   98.52738816   33.78615107], diff : 22.850070021777356\n",
      "theta:[ 390.78797077   98.52100122   33.70756031], diff : 22.471985176316593\n",
      "theta:[ 390.91476771   98.51463469   33.62962222], diff : 22.100160532023438\n",
      "theta:[ 391.04050954   98.50828901   33.55233138], diff : 21.734492273417345\n",
      "theta:[ 391.16520505   98.50196462   33.47568242], diff : 21.374878312697547\n",
      "theta:[ 391.28886298   98.49566195   33.39966999], diff : 21.021218260731985\n",
      "theta:[ 391.41149199   98.48938139   33.32428882], diff : 20.67341339862105\n",
      "theta:[ 391.53310067   98.48312334   33.24953366], diff : 20.33136664968515\n",
      "theta:[ 391.65369751   98.47688817   33.17539932], diff : 19.994982551922476\n",
      "theta:[ 391.77329098   98.47067624   33.10188063], diff : 19.664167230966086\n",
      "theta:[ 391.89188942   98.46448792   33.02897248], diff : 19.33882837352121\n",
      "theta:[ 392.00950116   98.45832352   32.9566698 ], diff : 19.01887520118089\n",
      "theta:[ 392.12613441   98.45218338   32.88496756], diff : 18.704218444745493\n",
      "theta:[ 392.24179734   98.4460678    32.81386078], diff : 18.394770318975134\n",
      "theta:[ 392.35649804   98.43997708   32.7433445 ], diff : 18.09044449776411\n",
      "theta:[ 392.47024453   98.43391151   32.67341383], diff : 17.791156089735523\n",
      "theta:[ 392.58304478   98.42787137   32.60406389], diff : 17.496821614169676\n",
      "theta:[ 392.69490667   98.42185691   32.53528987], diff : 17.20735897755185\n",
      "theta:[ 392.80583803   98.41586839   32.46708698], diff : 16.922687450302874\n",
      "theta:[ 392.91584661   98.40990605   32.39945048], diff : 16.642727643960825\n",
      "theta:[ 393.02494012   98.40397012   32.33237567], diff : 16.36740148885292\n",
      "theta:[ 393.13312618   98.39806081   32.26585787], diff : 16.096632211985707\n",
      "theta:[ 393.24041236   98.39217834   32.19989246], diff : 15.830344315446382\n",
      "theta:[ 393.34680615   98.38632291   32.13447486], diff : 15.568463555069684\n",
      "theta:[ 393.45231501   98.38049471   32.06960051], diff : 15.310916919559531\n",
      "theta:[ 393.5569463    98.37469391   32.00526491], diff : 15.05763260985077\n",
      "theta:[ 393.66070734   98.36892069   31.94146357], diff : 14.808540018910207\n",
      "theta:[ 393.76360538   98.36317522   31.87819206], diff : 14.563569711882337\n",
      "theta:[ 393.86564763   98.35745764   31.81544597], diff : 14.322653406442441\n",
      "theta:[ 393.9668412    98.3517681    31.75322096], diff : 14.085723953661727\n",
      "theta:[ 394.06719318   98.34610673   31.69151267], diff : 13.852715319118033\n",
      "theta:[ 394.16671058   98.34047367   31.63031684], diff : 13.623562564154781\n",
      "theta:[ 394.26540034   98.33486903   31.56962919], diff : 13.398201827872981\n",
      "theta:[ 394.36326938   98.32929294   31.50944551], diff : 13.17657030897044\n",
      "theta:[ 394.46032453   98.32374548   31.44976161], diff : 12.958606248102114\n",
      "theta:[ 394.55657257   98.31822676   31.39057335], diff : 12.744248910621536\n",
      "theta:[ 394.65202022   98.31273688   31.33187659], diff : 12.533438569432292\n",
      "theta:[ 394.74667416   98.30727591   31.27366727], diff : 12.326116488232401\n",
      "theta:[ 394.840541     98.30184393   31.21594134], diff : 12.122224904970608\n",
      "theta:[ 394.9336273    98.29644101   31.15869477], diff : 11.921707015708762\n",
      "theta:[ 395.02593955   98.29106722   31.10192359], diff : 11.724506958604707\n",
      "theta:[ 395.11748421   98.28572261   31.04562385], diff : 11.530569798213946\n",
      "theta:[ 395.20826767   98.28040723   30.98979164], diff : 11.339841510167389\n",
      "theta:[ 395.29829628   98.27512113   30.93442306], diff : 11.152268965891835\n",
      "theta:[ 395.38757632   98.26986435   30.87951428], diff : 10.967799917777484\n",
      "theta:[ 395.47611402   98.26463692   30.82506146], diff : 10.786382984523698\n",
      "theta:[ 395.56391557   98.25943887   30.77106083], diff : 10.607967636680314\n",
      "theta:[ 395.6509871    98.25427022   30.71750863], diff : 10.432504182486355\n",
      "theta:[ 395.7373347    98.24913099   30.66440114], diff : 10.259943754033884\n",
      "theta:[ 395.82296438   98.24402119   30.61173465], diff : 10.090238293397306\n",
      "theta:[ 395.90788213   98.23894083   30.55950552], diff : 9.923340539333367\n",
      "theta:[ 395.99209389   98.2338899    30.5077101 ], diff : 9.759204013922044\n",
      "theta:[ 396.07560552   98.22886842   30.45634479], diff : 9.597783009605791\n",
      "theta:[ 396.15842286   98.22387637   30.40540603], diff : 9.43903257635884\n",
      "theta:[ 396.24055168   98.21891374   30.35489026], diff : 9.282908509107074\n",
      "theta:[ 396.32199774   98.21398052   30.30479398], diff : 9.129367335333427\n",
      "theta:[ 396.4027667    98.20907668   30.25511371], diff : 8.978366302946597\n",
      "theta:[ 396.4828642    98.2042022    30.20584598], diff : 8.829863368254337\n",
      "theta:[ 396.56229584   98.19935705   30.15698737], diff : 8.683817184226427\n",
      "theta:[ 396.64106717   98.19454121   30.10853449], diff : 8.54018708893318\n",
      "theta:[ 396.71918367   98.18975463   30.06048396], diff : 8.398933094162658\n",
      "theta:[ 396.7966508    98.18499727   30.01283244], diff : 8.260015874183864\n",
      "theta:[ 396.87347397   98.1802691    29.96557662], diff : 8.123396754812347\n",
      "theta:[ 396.94965853   98.17557007   29.91871321], diff : 7.989037702548103\n",
      "theta:[ 397.02520981   98.17090012   29.87223895], diff : 7.856901313969502\n",
      "theta:[ 397.10013307   98.16625921   29.82615062], diff : 7.726950805239085\n",
      "theta:[ 397.17443355   98.16164728   29.780445  ], diff : 7.599150001813541\n",
      "theta:[ 397.24811643   98.15706427   29.73511892], diff : 7.473463328416528\n",
      "theta:[ 397.32118684   98.15251012   29.69016922], diff : 7.349855798938279\n",
      "theta:[ 397.39364989   98.14798476   29.64559279], diff : 7.22829300681633\n",
      "theta:[ 397.46551062   98.14348812   29.60138651], diff : 7.108741115296652\n",
      "theta:[ 397.53677407   98.13902014   29.55754733], diff : 6.991166848062676\n",
      "theta:[ 397.60744519   98.13458075   29.51407217], diff : 6.875537479871582\n",
      "theta:[ 397.67752891   98.13016985   29.47095803], diff : 6.761820827458905\n",
      "theta:[ 397.74703013   98.12578739   29.42820191], diff : 6.64998524052271\n",
      "theta:[ 397.81595369   98.12143328   29.38580083], diff : 6.5399995928805765\n",
      "theta:[ 397.8843044    98.11710743   29.34375185], diff : 6.4318332737807395\n",
      "theta:[ 397.95208703   98.11280976   29.30205203], diff : 6.325456179368757\n",
      "theta:[ 398.0193063    98.10854019   29.26069848], diff : 6.220838704246944\n",
      "theta:[ 398.0859669    98.10429862   29.21968833], diff : 6.117951733220707\n",
      "theta:[ 398.15207349   98.10008497   29.17901872], diff : 6.01676663319904\n",
      "theta:[ 398.21763066   98.09589914   29.13868683], diff : 5.917255245142769\n",
      "theta:[ 398.282643     98.09174103   29.09868984], diff : 5.819389876263813\n",
      "theta:[ 398.34711503   98.08761056   29.05902499], diff : 5.723143292233544\n",
      "theta:[ 398.41105126   98.08350761   29.0196895 ], diff : 5.628488709633984\n",
      "theta:[ 398.47445613   98.0794321    28.98068065], diff : 5.535399788455379\n",
      "theta:[ 398.53733408   98.07538391   28.94199572], diff : 5.443850624751121\n",
      "theta:[ 398.59968948   98.07136296   28.90363203], diff : 5.353815743399082\n",
      "theta:[ 398.66152668   98.06736912   28.86558689], diff : 5.265270091021648\n",
      "theta:[ 398.72284999   98.0634023    28.82785768], diff : 5.178189028953511\n",
      "theta:[ 398.7836637    98.05946239   28.79044177], diff : 5.092548326399083\n",
      "theta:[ 398.84397203   98.05554928   28.75333654], diff : 5.008324153658577\n",
      "theta:[ 398.90377919   98.05166285   28.71653943], diff : 4.925493075498252\n",
      "theta:[ 398.96308936   98.04780301   28.68004788], diff : 4.844032044588857\n",
      "theta:[ 399.02190666   98.04396963   28.64385934], diff : 4.763918395068686\n",
      "theta:[ 399.0802352    98.0401626    28.60797131], diff : 4.6851298362867055\n",
      "theta:[ 399.13807904   98.03638181   28.57238128], diff : 4.607644446501581\n",
      "theta:[ 399.19544222   98.03262714   28.53708678], diff : 4.531440666812614\n",
      "theta:[ 399.25232873   98.02889847   28.50208535], diff : 4.4564972951670825\n",
      "theta:[ 399.30874253   98.02519569   28.46737457], diff : 4.382793480378041\n",
      "theta:[ 399.36468756   98.02151868   28.43295202], diff : 4.31030871640678\n",
      "theta:[ 399.42016772   98.01786732   28.39881531], diff : 4.239022836560707\n",
      "theta:[ 399.47518688   98.01424148   28.36496205], diff : 4.168916007900407\n",
      "theta:[ 399.52974886   98.01064106   28.33138991], diff : 4.099968725758117\n",
      "theta:[ 399.58385748   98.00706592   28.29809653], diff : 4.032161808197543\n",
      "theta:[ 399.63751649   98.00351595   28.26507962], diff : 3.9654763907683446\n",
      "theta:[ 399.69072965   97.99999101   28.23233687], diff : 3.8998939212046935\n",
      "theta:[ 399.74350066   97.99649099   28.199866  ], diff : 3.8353961542429715\n",
      "theta:[ 399.79583319   97.99301577   28.16766476], diff : 3.771965146531784\n",
      "theta:[ 399.84773089   97.98956521   28.13573091], diff : 3.709583251697495\n",
      "theta:[ 399.89919739   97.9861392    28.10406223], diff : 3.648233115342464\n",
      "theta:[ 399.95023626   97.98273761   28.07265652], diff : 3.587897670257462\n",
      "theta:[ 400.00085106   97.9793603    28.04151158], diff : 3.5285601316286375\n",
      "theta:[ 400.05104532   97.97600716   28.01062527], diff : 3.470203992432289\n",
      "theta:[ 400.10082253   97.97267806   27.97999542], diff : 3.412813018759607\n",
      "theta:[ 400.15018617   97.96937287   27.94961992], diff : 3.3563712452983054\n",
      "theta:[ 400.19913967   97.96609146   27.91949664], diff : 3.300862970961589\n",
      "theta:[ 400.24768644   97.9628337    27.88962349], diff : 3.2462727544188965\n",
      "theta:[ 400.29582986   97.95959948   27.8599984 ], diff : 3.192585409867206\n",
      "theta:[ 400.3435733    97.95638865   27.83061931], diff : 3.139786002731853\n",
      "theta:[ 400.39092006   97.95320109   27.80148417], diff : 3.087859845573803\n",
      "theta:[ 400.43787346   97.95003667   27.77259095], diff : 3.0367924939714612\n",
      "theta:[ 400.48443677   97.94689526   27.74393766], diff : 2.986569742469328\n",
      "theta:[ 400.53061321   97.94377673   27.71552229], diff : 2.937177620662169\n",
      "theta:[ 400.57640603   97.94068096   27.68734287], diff : 2.888602389281459\n",
      "theta:[ 400.62181839   97.93760782   27.65939744], diff : 2.840830536384601\n",
      "theta:[ 400.66685347   97.93455717   27.63168406], diff : 2.7938487735746094\n",
      "theta:[ 400.71151441   97.93152888   27.6042008 ], diff : 2.7476440323125644\n",
      "theta:[ 400.7558043    97.92852283   27.57694575], diff : 2.7022034602728127\n",
      "theta:[ 400.79972625   97.92553889   27.54991701], diff : 2.6575144177468246\n",
      "theta:[ 400.8432833    97.92257693   27.52311271], diff : 2.6135644741762007\n",
      "theta:[ 400.88647849   97.91963681   27.49653098], diff : 2.5703414046074613\n",
      "theta:[ 400.92931483   97.91671841   27.47016997], diff : 2.527833186386033\n",
      "theta:[ 400.97179531   97.91382161   27.44402786], diff : 2.486027995721088\n",
      "theta:[ 401.01392287   97.91094626   27.41810282], diff : 2.4449142044400105\n",
      "theta:[ 401.05570046   97.90809225   27.39239304], diff : 2.4044803767642406\n",
      "theta:[ 401.09713098   97.90525944   27.36689675], diff : 2.3647152660710162\n",
      "theta:[ 401.13821733   97.9024477    27.34161218], diff : 2.325607811804275\n",
      "theta:[ 401.17896235   97.89965691   27.31653755], diff : 2.2871471363996534\n",
      "theta:[ 401.21936889   97.89688694   27.29167113], diff : 2.249322542205391\n",
      "theta:[ 401.25943976   97.89413766   27.26701119], diff : 2.2121235085869557\n",
      "theta:[ 401.29917775   97.89140894   27.24255601], diff : 2.175539688912977\n",
      "theta:[ 401.33858563   97.88870065   27.2183039 ], diff : 2.13956090773263\n",
      "theta:[ 401.37766614   97.88601267   27.19425317], diff : 2.1041771579102715\n",
      "theta:[ 401.41642201   97.88334487   27.17040214], diff : 2.0693785978728556\n",
      "theta:[ 401.45485593   97.88069712   27.14674916], diff : 2.035155548830062\n",
      "theta:[ 401.49297058   97.8780693    27.12329259], diff : 2.0014984920985626\n",
      "theta:[ 401.53076861   97.87546128   27.10003078], diff : 1.9683980664826777\n",
      "theta:[ 401.56825265   97.87287293   27.07696213], diff : 1.9358450656059176\n",
      "theta:[ 401.60542532   97.87030413   27.05408504], diff : 1.9038304354216962\n",
      "theta:[ 401.64228919   97.86775475   27.0313979 ], diff : 1.8723452716035354\n",
      "theta:[ 401.67884685   97.86522468   27.00889914], diff : 1.8413808171658275\n",
      "theta:[ 401.71510083   97.86271377   26.98658721], diff : 1.810928459941806\n",
      "theta:[ 401.75105366   97.86022191   26.96446054], diff : 1.7809797302670631\n",
      "theta:[ 401.78670783   97.85774898   26.94251759], diff : 1.7515262985252775\n",
      "theta:[ 401.82206584   97.85529484   26.92075686], diff : 1.722559972918134\n",
      "theta:[ 401.85713015   97.85285939   26.89917681], diff : 1.694072697151114\n",
      "theta:[ 401.89190318   97.85044249   26.87777595], diff : 1.6660565481765843\n",
      "theta:[ 401.92638738   97.84804402   26.85655279], diff : 1.6385037339978226\n",
      "theta:[ 401.96058513   97.84566386   26.83550586], diff : 1.6114065915312494\n",
      "theta:[ 401.99449881   97.8433019    26.81463369], diff : 1.5847575844222774\n",
      "theta:[ 402.0281308    97.840958     26.79393484], diff : 1.558549301007588\n",
      "theta:[ 402.06148342   97.83863205   26.77340785], diff : 1.5327744521669047\n",
      "theta:[ 402.094559     97.83632392   26.75305131], diff : 1.5074258694030505\n",
      "theta:[ 402.12735985   97.8340335    26.7328638 ], diff : 1.482496502754202\n",
      "theta:[ 402.15988824   97.83176067   26.71284392], diff : 1.457979418888499\n",
      "theta:[ 402.19214644   97.82950531   26.69299027], diff : 1.4338677991445365\n",
      "theta:[ 402.22413669   97.8272673    26.67330148], diff : 1.4101549376468938\n",
      "theta:[ 402.25586123   97.82504653   26.65377617], diff : 1.3868342394434876\n",
      "theta:[ 402.28732226   97.82284286   26.63441298], diff : 1.3638992186629366\n",
      "theta:[ 402.31852197   97.8206562    26.61521058], diff : 1.341343496704667\n",
      "theta:[ 402.34946253   97.81848642   26.59616763], diff : 1.319160800485406\n",
      "theta:[ 402.38014609   97.8163334    26.57728279], diff : 1.2973449606620306\n",
      "theta:[ 402.4105748    97.81419704   26.55855477], diff : 1.2758899099640075\n",
      "theta:[ 402.44075076   97.81207721   26.53998225], diff : 1.2547896814298838\n",
      "theta:[ 402.47067608   97.8099738    26.52156395], diff : 1.2340384068256753\n",
      "theta:[ 402.50035285   97.8078867    26.50329858], diff : 1.213630314972761\n",
      "theta:[ 402.52978312   97.8058158    26.48518488], diff : 1.1935597301312555\n",
      "theta:[ 402.55896894   97.80376097   26.46722159], diff : 1.1738210704611447\n",
      "theta:[ 402.58791235   97.80172211   26.44940745], diff : 1.1544088464215747\n",
      "theta:[ 402.61661536   97.79969911   26.43174123], diff : 1.1353176592710952\n",
      "theta:[ 402.64507997   97.79769186   26.4142217 ], diff : 1.1165421995847282\n",
      "theta:[ 402.67330816   97.79570024   26.39684764], diff : 1.0980772457255625\n",
      "theta:[ 402.70130189   97.79372414   26.37961784], diff : 1.0799176624373104\n",
      "theta:[ 402.72906312   97.79176346   26.36253111], diff : 1.0620583993918444\n",
      "theta:[ 402.75659376   97.78981809   26.34558626], diff : 1.0444944897894857\n",
      "theta:[ 402.78389575   97.78788791   26.32878211], diff : 1.0272210489906684\n",
      "theta:[ 402.81097097   97.78597282   26.3121175 ], diff : 1.0102332731130446\n",
      "theta:[ 402.83782132   97.78407272   26.29559125], diff : 0.99352643777911\n",
      "theta:[ 402.86444866   97.78218749   26.27920223], diff : 0.9770958967005754\n",
      "theta:[ 402.89085484   97.78031702   26.26294929], diff : 0.960937080470103\n",
      "theta:[ 402.91704171   97.77846122   26.24683131], diff : 0.9450454952302607\n",
      "theta:[ 402.94301108   97.77661998   26.23084716], diff : 0.9294167214547997\n",
      "theta:[ 402.96876476   97.77479319   26.21499573], diff : 0.914046412729931\n",
      "theta:[ 402.99430455   97.77298075   26.19927593], diff : 0.8989302945064992\n",
      "theta:[ 403.01963222   97.77118255   26.18368665], diff : 0.8840641629421953\n",
      "theta:[ 403.04474953   97.7693985    26.16822682], diff : 0.869443883722397\n",
      "theta:[ 403.06965823   97.76762848   26.15289535], diff : 0.8550653909023822\n",
      "theta:[ 403.09436005   97.7658724    26.13769119], diff : 0.8409246858091137\n",
      "theta:[ 403.11885672   97.76413016   26.12261327], diff : 0.827017835848892\n",
      "theta:[ 403.14314993   97.76240166   26.10766056], diff : 0.8133409735414716\n",
      "theta:[ 403.16724138   97.76068679   26.092832  ], diff : 0.7998902953167999\n",
      "theta:[ 403.19113274   97.75898545   26.07812656], diff : 0.7866620605250318\n",
      "theta:[ 403.21482569   97.75729756   26.06354323], diff : 0.7736525904042537\n",
      "theta:[ 403.23832185   97.755623     26.049081  ], diff : 0.7608582669940915\n",
      "theta:[ 403.26162287   97.75396168   26.03473884], diff : 0.7482755321966579\n",
      "theta:[ 403.28473038   97.7523135    26.02051578], diff : 0.7359008867792909\n",
      "theta:[ 403.30764597   97.75067838   26.00641081], diff : 0.7237308893363661\n",
      "theta:[ 403.33037125   97.7490562    25.99242297], diff : 0.711762155409815\n",
      "theta:[ 403.35290779   97.74744687   25.97855127], diff : 0.6999913565114184\n",
      "theta:[ 403.37525716   97.74585031   25.96479475], diff : 0.6884152191978501\n",
      "theta:[ 403.39742091   97.74426641   25.95115245], diff : 0.6770305241611823\n",
      "theta:[ 403.4194006    97.74269508   25.93762344], diff : 0.6658341053421282\n",
      "theta:[ 403.44119774   97.74113623   25.92420676], diff : 0.6548228490478323\n",
      "theta:[ 403.46281386   97.73958977   25.91090148], diff : 0.6439936930628392\n",
      "theta:[ 403.48425045   97.7380556    25.89770668], diff : 0.6333436258455549\n",
      "theta:[ 403.50550902   97.73653362   25.88462144], diff : 0.6228696856233\n",
      "theta:[ 403.52659103   97.73502376   25.87164486], diff : 0.6125689596365191\n",
      "theta:[ 403.54749795   97.73352592   25.85877602], diff : 0.6024385832997723\n",
      "theta:[ 403.56823125   97.73204001   25.84601404], diff : 0.5924757393704567\n",
      "theta:[ 403.58879236   97.73056594   25.83335802], diff : 0.5826776572407653\n",
      "theta:[ 403.60918271   97.72910362   25.82080709], diff : 0.5730416120882182\n",
      "theta:[ 403.62940372   97.72765296   25.80836038], diff : 0.5635649241885403\n",
      "theta:[ 403.6494568    97.72621388   25.79601701], diff : 0.554244958090294\n",
      "theta:[ 403.66934334   97.72478628   25.78377614], diff : 0.5450791219800522\n",
      "theta:[ 403.68906473   97.72337009   25.77163691], diff : 0.5360648668724934\n",
      "theta:[ 403.70862233   97.72196521   25.75959847], diff : 0.5271996859619321\n",
      "theta:[ 403.72801751   97.72057157   25.74765999], diff : 0.5184811138628902\n",
      "theta:[ 403.74725162   97.71918906   25.73582064], diff : 0.5099067260152879\n",
      "theta:[ 403.766326     97.71781762   25.7240796 ], diff : 0.501474137911373\n",
      "theta:[ 403.78524197   97.71645716   25.71243605], diff : 0.4931810045063685\n",
      "theta:[ 403.80400084   97.71510758   25.70088917], diff : 0.4850250195345325\n",
      "theta:[ 403.82260393   97.71376882   25.68943818], diff : 0.4770039148552314\n",
      "theta:[ 403.84105253   97.71244079   25.67808226], diff : 0.46911545986404235\n",
      "theta:[ 403.85934791   97.7111234    25.66682064], diff : 0.46135746081290563\n",
      "theta:[ 403.87749136   97.70981658   25.65565253], diff : 0.4537277602812537\n",
      "theta:[ 403.89548414   97.70852024   25.64457714], diff : 0.44622423647433607\n",
      "theta:[ 403.91332749   97.70723431   25.63359372], diff : 0.43884480274391535\n",
      "theta:[ 403.93102266   97.7059587    25.6227015 ], diff : 0.43158740689796105\n",
      "theta:[ 403.94857088   97.70469334   25.61189973], diff : 0.4244500307031558\n",
      "theta:[ 403.96597336   97.70343815   25.60118764], diff : 0.4174306893346511\n",
      "theta:[ 403.98323133   97.70219304   25.59056449], diff : 0.4105274307535183\n",
      "theta:[ 404.00034598   97.70095795   25.58002956], diff : 0.40373833520470725\n",
      "theta:[ 404.0173185    97.69973279   25.5695821 ], diff : 0.39706151471727935\n",
      "theta:[ 404.03415007   97.69851749   25.55922139], diff : 0.3904951125041407\n",
      "theta:[ 404.05084186   97.69731198   25.5489467 ], diff : 0.3840373024991095\n",
      "theta:[ 404.06739504   97.69611617   25.53875733], diff : 0.3776862888635151\n",
      "theta:[ 404.08381075   97.69492999   25.52865257], diff : 0.3714403054018476\n",
      "theta:[ 404.10009013   97.69375337   25.51863171], diff : 0.36529761517795123\n",
      "theta:[ 404.11623433   97.69258624   25.50869405], diff : 0.35925650996432523\n",
      "theta:[ 404.13224445   97.69142852   25.49883891], diff : 0.35331530976327485\n",
      "theta:[ 404.14812163   97.69028013   25.4890656 ], diff : 0.34747236239809354\n",
      "theta:[ 404.16386695   97.68914102   25.47937344], diff : 0.3417260429991984\n",
      "theta:[ 404.17948151   97.68801109   25.46976176], diff : 0.33607475354438066\n",
      "theta:[ 404.19496641   97.68689029   25.46022989], diff : 0.33051692248818654\n",
      "theta:[ 404.21032271   97.68577854   25.45077716], diff : 0.3250510042407768\n",
      "theta:[ 404.22555149   97.68467577   25.44140292], diff : 0.31967547876092794\n",
      "theta:[ 404.24065381   97.68358192   25.43210652], diff : 0.31438885119996485\n",
      "theta:[ 404.25563071   97.6824969    25.42288731], diff : 0.30918965137243504\n",
      "theta:[ 404.27048323   97.68142066   25.41374465], diff : 0.3040764334477899\n",
      "theta:[ 404.28521242   97.68035313   25.4046779 ], diff : 0.299047775467443\n",
      "theta:[ 404.29981929   97.67929423   25.39568644], diff : 0.2941022790414536\n",
      "theta:[ 404.31430486   97.67824391   25.38676963], diff : 0.28923856884921406\n",
      "theta:[ 404.32867014   97.67720208   25.37792687], diff : 0.2844552923493211\n",
      "theta:[ 404.34291613   97.67616869   25.36915753], diff : 0.27975111937803376\n",
      "theta:[ 404.35704381   97.67514368   25.360461  ], diff : 0.2751247417263585\n",
      "theta:[ 404.37105418   97.67412696   25.35183668], diff : 0.2705748728653816\n",
      "theta:[ 404.3849482    97.67311849   25.34328398], diff : 0.2661002475069836\n",
      "theta:[ 404.39872684   97.67211819   25.33480228], diff : 0.26169962132416913\n",
      "theta:[ 404.41239106   97.67112601   25.32639102], diff : 0.2573717705317904\n",
      "theta:[ 404.42594181   97.67014187   25.31804959], diff : 0.25311549161915536\n",
      "theta:[ 404.43938003   97.66916572   25.30977743], diff : 0.2489296009316604\n",
      "theta:[ 404.45270666   97.66819749   25.30157395], diff : 0.24481293445114716\n",
      "theta:[ 404.46592262   97.66723711   25.29343859], diff : 0.24076434734661234\n",
      "theta:[ 404.47902883   97.66628454   25.28537078], diff : 0.23678271377502824\n",
      "theta:[ 404.49202621   97.6653397    25.27736996], diff : 0.23286692647343443\n",
      "theta:[ 404.50491566   97.66440254   25.26943557], diff : 0.22901589650473397\n",
      "theta:[ 404.51769807   97.66347299   25.26156706], diff : 0.22522855294982946\n",
      "theta:[ 404.53037434   97.66255099   25.25376388], diff : 0.2215038425720195\n",
      "theta:[ 404.54294533   97.66163649   25.2460255 ], diff : 0.2178407295928082\n",
      "theta:[ 404.55541194   97.66072943   25.23835137], diff : 0.21423819532856214\n",
      "theta:[ 404.56777503   97.65982975   25.23074097], diff : 0.21069523796177236\n",
      "theta:[ 404.58003545   97.65893738   25.22319375], diff : 0.2072108722277335\n",
      "theta:[ 404.59219406   97.65805227   25.2157092 ], diff : 0.20378412917489186\n",
      "theta:[ 404.6042517    97.65717437   25.2082868 ], diff : 0.20041405584606764\n",
      "theta:[ 404.61620922   97.65630361   25.20092602], diff : 0.19709971508837043\n",
      "theta:[ 404.62806744   97.65543995   25.19362637], diff : 0.19384018520713653\n",
      "theta:[ 404.63982719   97.65458331   25.18638733], diff : 0.19063455976811383\n",
      "theta:[ 404.65148929   97.65373366   25.17920839], diff : 0.18748194731551848\n",
      "theta:[ 404.66305454   97.65289093   25.17208906], diff : 0.1843814711678533\n",
      "theta:[ 404.67452376   97.65205506   25.16502885], diff : 0.18133226909276345\n",
      "theta:[ 404.68589774   97.65122601   25.15802726], diff : 0.17833349315742453\n",
      "theta:[ 404.69717726   97.65040372   25.1510838 ], diff : 0.1753843094338663\n",
      "theta:[ 404.70836313   97.64958813   25.144198  ], diff : 0.17248389779706486\n",
      "theta:[ 404.7194561    97.64877919   25.13736937], diff : 0.16963145166437243\n",
      "theta:[ 404.73045696   97.64797685   25.13059745], diff : 0.16682617780816145\n",
      "theta:[ 404.74136647   97.64718106   25.12388175], diff : 0.16406729612981508\n",
      "theta:[ 404.75218539   97.64639176   25.11722181], diff : 0.1613540393918811\n",
      "theta:[ 404.76291447   97.64560891   25.11061718], diff : 0.15868565309529004\n",
      "theta:[ 404.77355445   97.64483244   25.10406738], diff : 0.15606139517694828\n",
      "theta:[ 404.78410608   97.64406232   25.09757197], diff : 0.15348053588377297\n",
      "theta:[ 404.79457009   97.64329848   25.09113049], diff : 0.1509423574734683\n",
      "theta:[ 404.80494721   97.64254088   25.08474249], diff : 0.14844615415086082\n",
      "theta:[ 404.81523816   97.64178948   25.07840754], diff : 0.145991231730477\n",
      "theta:[ 404.82544365   97.64104421   25.07212519], diff : 0.1435769075301323\n",
      "theta:[ 404.8355644    97.64030503   25.065895  ], diff : 0.14120251015492613\n",
      "theta:[ 404.84560111   97.6395719    25.05971655], diff : 0.1388673793298949\n",
      "theta:[ 404.85555447   97.63884476   25.05358939], diff : 0.13657086566217913\n",
      "theta:[ 404.86542518   97.63812356   25.04751311], diff : 0.1343123305273366\n",
      "theta:[ 404.87521393   97.63740826   25.04148728], diff : 0.13209114586561554\n",
      "theta:[ 404.88492139   97.63669882   25.03551149], diff : 0.12990669398959653\n",
      "theta:[ 404.89454825   97.63599517   25.02958531], diff : 0.12775836742275715\n",
      "theta:[ 404.90409516   97.63529729   25.02370834], diff : 0.12564556873803667\n",
      "theta:[ 404.9135628    97.63460511   25.01788017], diff : 0.12356771040685999\n",
      "theta:[ 404.92295182   97.63391861   25.0121004 ], diff : 0.12152421460677942\n",
      "theta:[ 404.93226288   97.63323772   25.00636861], diff : 0.1195145130527635\n",
      "theta:[ 404.94149662   97.6325624    25.00068441], diff : 0.11753804687168667\n",
      "theta:[ 404.95065368   97.63189262   24.99504742], diff : 0.11559426644498672\n",
      "theta:[ 404.95973471   97.63122832   24.98945722], diff : 0.11368263122631106\n",
      "theta:[ 404.96874032   97.63056946   24.98391345], diff : 0.11180260962510147\n",
      "theta:[ 404.97767116   97.629916     24.97841571], diff : 0.10995367880605045\n",
      "theta:[ 404.98652784   97.62926789   24.97296361], diff : 0.10813532463089359\n",
      "theta:[ 404.99531098   97.6286251    24.96755679], diff : 0.10634704142057672\n",
      "theta:[ 405.00402118   97.62798757   24.96219486], diff : 0.10458833190023142\n",
      "theta:[ 405.01265905   97.62735527   24.95687745], diff : 0.10285870695861377\n",
      "theta:[ 405.0212252    97.62672815   24.95160419], diff : 0.10115768564082828\n",
      "theta:[ 405.02972021   97.62610618   24.94637472], diff : 0.09948479491458784\n",
      "theta:[ 405.03814469   97.6254893    24.94118867], diff : 0.0978395695465224\n",
      "theta:[ 405.04649921   97.62487749   24.93604568], diff : 0.09622155204533556\n",
      "theta:[ 405.05478436   97.62427069   24.93094539], diff : 0.09463029244852805\n",
      "theta:[ 405.06300071   97.62366887   24.92588745], diff : 0.09306534824099799\n",
      "theta:[ 405.07114883   97.62307199   24.92087151], diff : 0.09152628425454168\n",
      "theta:[ 405.0792293    97.62248001   24.91589722], diff : 0.09001267248186196\n",
      "theta:[ 405.08724267   97.62189288   24.91096423], diff : 0.08852409200289912\n",
      "theta:[ 405.09518949   97.62131058   24.9060722 ], diff : 0.08706012886705139\n",
      "theta:[ 405.10307033   97.62073305   24.90122079], diff : 0.08562037597175731\n",
      "theta:[ 405.11088573   97.62016027   24.89640967], diff : 0.08420443293380231\n",
      "theta:[ 405.11863623   97.61959219   24.89163849], diff : 0.08281190600291666\n",
      "theta:[ 405.12632237   97.61902877   24.88690693], diff : 0.081442407933082\n",
      "theta:[ 405.1339447    97.61846998   24.88221465], diff : 0.08009555787521094\n",
      "theta:[ 405.14150372   97.61791579   24.87756134], diff : 0.07877098130484228\n",
      "theta:[ 405.14899998   97.61736614   24.87294666], diff : 0.07746830986980058\n",
      "theta:[ 405.156434     97.61682101   24.8683703 ], diff : 0.07618718130879643\n",
      "theta:[ 405.16380628   97.61628036   24.86383194], diff : 0.07492723936638868\n",
      "theta:[ 405.17111735   97.61574416   24.85933126], diff : 0.07368813364519156\n",
      "theta:[ 405.17836771   97.61521236   24.85486795], diff : 0.07246951961496961\n",
      "theta:[ 405.18555786   97.61468493   24.8504417 ], diff : 0.07127105833524183\n",
      "theta:[ 405.19268831   97.61416183   24.84605221], diff : 0.0700924165807919\n",
      "theta:[ 405.19975956   97.61364304   24.84169916], diff : 0.06893326655699639\n",
      "theta:[ 405.20677208   97.61312852   24.83738225], diff : 0.06779328592710954\n",
      "theta:[ 405.21372638   97.61261822   24.83310119], diff : 0.0666721576881173\n",
      "theta:[ 405.22062293   97.61211212   24.82885568], diff : 0.06556957004568176\n",
      "theta:[ 405.22746221   97.61161019   24.82464542], diff : 0.06448521641505067\n",
      "theta:[ 405.2342447    97.61111238   24.82047011], diff : 0.06341879523688476\n",
      "theta:[ 405.24097088   97.61061867   24.81632948], diff : 0.06237000994406117\n",
      "theta:[ 405.2476412    97.61012902   24.81222322], diff : 0.06133856889528033\n",
      "theta:[ 405.25425613   97.6096434    24.80815106], diff : 0.06032418526501715\n",
      "theta:[ 405.26081614   97.60916177   24.80411272], diff : 0.05932657695757371\n",
      "theta:[ 405.26732168   97.60868411   24.8001079 ], diff : 0.05834546655069062\n",
      "theta:[ 405.27377319   97.60821039   24.79613634], diff : 0.057380581216875726\n",
      "theta:[ 405.28017114   97.60774056   24.79219775], diff : 0.05643165263518313\n",
      "theta:[ 405.28651596   97.60727459   24.78829187], diff : 0.05549841691481561\n",
      "theta:[ 405.29280809   97.60681247   24.78441842], diff : 0.05458061454055496\n",
      "theta:[ 405.29904798   97.60635415   24.78057713], diff : 0.05367799028863374\n",
      "theta:[ 405.30523606   97.6058996    24.77676773], diff : 0.05279029313442152\n",
      "theta:[ 405.31137275   97.6054488    24.77298997], diff : 0.05191727623423503\n",
      "theta:[ 405.31745848   97.60500171   24.76924357], diff : 0.051058696822110505\n",
      "theta:[ 405.32349369   97.6045583    24.76552828], diff : 0.05021431611658045\n",
      "theta:[ 405.32947878   97.60411855   24.76184384], diff : 0.04938389932431164\n",
      "theta:[ 405.33541417   97.60368242   24.75818999], diff : 0.04856721551504961\n",
      "theta:[ 405.34130027   97.60324988   24.75456648], diff : 0.047764037575689144\n",
      "theta:[ 405.34713751   97.60282091   24.75097306], diff : 0.046974142146609665\n",
      "theta:[ 405.35292627   97.60239547   24.74740948], diff : 0.04619730959120716\n",
      "theta:[ 405.35866696   97.60197353   24.74387548], diff : 0.04543332386356269\n",
      "theta:[ 405.36435999   97.60155508   24.74037083], diff : 0.0446819725111709\n",
      "theta:[ 405.37000574   97.60114007   24.73689527], diff : 0.04394304659899717\n",
      "theta:[ 405.37560462   97.60072849   24.73344858], diff : 0.04321634063944657\n",
      "theta:[ 405.381157     97.60032029   24.7300305 ], diff : 0.042501652547798585\n",
      "theta:[ 405.38666328   97.59991547   24.72664081], diff : 0.04179878357945199\n",
      "theta:[ 405.39212384   97.59951398   24.72327926], diff : 0.04110753827080771\n",
      "theta:[ 405.39753906   97.5991158    24.71994562], diff : 0.04042772439970577\n",
      "theta:[ 405.40290931   97.5987209    24.71663966], diff : 0.03975915291812271\n",
      "theta:[ 405.40823497   97.59832926   24.71336116], diff : 0.039101637909425335\n",
      "theta:[ 405.41351641   97.59794085   24.71010987], diff : 0.038454996517884865\n",
      "theta:[ 405.41875399   97.59755565   24.70688558], diff : 0.03781904893094179\n",
      "theta:[ 405.42394809   97.59717362   24.70368807], diff : 0.03719361830462731\n",
      "theta:[ 405.42909905   97.59679474   24.7005171 ], diff : 0.03657853070262718\n",
      "theta:[ 405.43420725   97.59641899   24.69737246], diff : 0.03597361507536334\n",
      "theta:[ 405.43927303   97.59604634   24.69425393], diff : 0.03537870322043091\n",
      "theta:[ 405.44429674   97.59567677   24.6911613 ], diff : 0.03479362969392241\n",
      "theta:[ 405.44927874   97.59531024   24.68809434], diff : 0.03421823178132399\n",
      "theta:[ 405.45421937   97.59494674   24.68505285], diff : 0.0336523494956964\n",
      "theta:[ 405.45911898   97.59458624   24.68203662], diff : 0.03309582545352896\n",
      "theta:[ 405.46397791   97.59422871   24.67904543], diff : 0.03254850491157413\n",
      "theta:[ 405.46879649   97.59387414   24.67607907], diff : 0.03201023564361094\n",
      "theta:[ 405.47357505   97.59352249   24.67313735], diff : 0.031480867985010264\n",
      "theta:[ 405.47831394   97.59317374   24.67022005], diff : 0.03096025471631947\n",
      "theta:[ 405.48301348   97.59282787   24.66732697], diff : 0.030448251064626675\n",
      "theta:[ 405.487674     97.59248486   24.66445792], diff : 0.029944714656267024\n",
      "theta:[ 405.49229582   97.59214468   24.66161269], diff : 0.02944950544542735\n",
      "theta:[ 405.49687926   97.59180731   24.65879108], diff : 0.028962485741885757\n",
      "theta:[ 405.50142465   97.59147273   24.65599291], diff : 0.028483520091413084\n",
      "theta:[ 405.50593229   97.59114091   24.65321796], diff : 0.028012475327614084\n",
      "theta:[ 405.5104025    97.59081183   24.65046606], diff : 0.027549220429136767\n",
      "theta:[ 405.5148356    97.59048546   24.647737  ], diff : 0.027093626599707932\n",
      "theta:[ 405.51923188   97.59016179   24.64503061], diff : 0.0266455671157928\n",
      "theta:[ 405.52359166   97.5898408    24.64234669], diff : 0.026204917405721062\n",
      "theta:[ 405.52791524   97.58952246   24.63968505], diff : 0.0257715549155364\n",
      "theta:[ 405.53220292   97.58920674   24.63704551], diff : 0.02534535913127911\n",
      "theta:[ 405.536455     97.58889364   24.63442789], diff : 0.024926211544425314\n",
      "theta:[ 405.54067177   97.58858312   24.63183201], diff : 0.024513995588677062\n",
      "theta:[ 405.54485352   97.58827517   24.62925768], diff : 0.024108596635869617\n",
      "theta:[ 405.54900056   97.58796976   24.62670472], diff : 0.023709901936854294\n",
      "theta:[ 405.55311316   97.58766688   24.62417296], diff : 0.023317800650147547\n",
      "theta:[ 405.55719161   97.58736649   24.62166223], diff : 0.022932183708235243\n",
      "theta:[ 405.56123619   97.58706859   24.61917234], diff : 0.02255294389260598\n",
      "theta:[ 405.56524719   97.58677316   24.61670312], diff : 0.022179975726430712\n",
      "theta:[ 405.56922489   97.58648016   24.61425441], diff : 0.02181317551412576\n",
      "theta:[ 405.57316956   97.58618959   24.61182603], diff : 0.021452441234487196\n",
      "theta:[ 405.57708147   97.58590141   24.60941781], diff : 0.021097672587075067\n",
      "theta:[ 405.58096091   97.58561562   24.60702959], diff : 0.020748770899444935\n",
      "theta:[ 405.58480813   97.5853322    24.6046612 ], diff : 0.02040563916625615\n",
      "theta:[ 405.5886234    97.58505111   24.60231247], diff : 0.020068181950136932\n",
      "theta:[ 405.592407     97.58477235   24.59998325], diff : 0.019736305417154654\n",
      "theta:[ 405.59615917   97.58449589   24.59767336], diff : 0.019409917272696475\n",
      "theta:[ 405.5998802    97.58422172   24.59538266], diff : 0.019088926761469338\n",
      "theta:[ 405.60357032   97.58394982   24.59311098], diff : 0.018773244618842\n",
      "theta:[ 405.60722981   97.58368016   24.59085815], diff : 0.018462783043105446\n",
      "theta:[ 405.61085891   97.58341274   24.58862404], diff : 0.01815745571275329\n",
      "theta:[ 405.61445787   97.58314753   24.58640847], diff : 0.01785717772281714\n",
      "theta:[ 405.61802695   97.5828845    24.5842113 ], diff : 0.01756186556440298\n",
      "theta:[ 405.6215664    97.58262366   24.58203237], diff : 0.017271437108320242\n",
      "theta:[ 405.62507646   97.58236497   24.57987154], diff : 0.016985811605536583\n",
      "theta:[ 405.62855737   97.58210842   24.57772865], diff : 0.016704909618965758\n",
      "theta:[ 405.63200938   97.581854     24.57560355], diff : 0.016428653028469853\n",
      "theta:[ 405.63543272   97.58160167   24.57349609], diff : 0.016156965030859283\n",
      "theta:[ 405.63882764   97.58135144   24.57140614], diff : 0.015889770048488572\n",
      "theta:[ 405.64219437   97.58110327   24.56933354], diff : 0.015626993792920985\n",
      "theta:[ 405.64553315   97.58085716   24.56727814], diff : 0.015368563184892992\n",
      "theta:[ 405.6488442    97.58061308   24.56523982], diff : 0.0151144063661377\n",
      "theta:[ 405.65212776   97.58037103   24.56321841], diff : 0.014864452644815174\n",
      "theta:[ 405.65538405   97.58013097   24.5612138 ], diff : 0.014618632527799491\n",
      "theta:[ 405.65861331   97.57989291   24.55922582], diff : 0.014376877638369479\n",
      "theta:[ 405.66181575   97.57965681   24.55725436], diff : 0.01413912076577617\n",
      "theta:[ 405.66499161   97.57942266   24.55529926], diff : 0.013905295788390504\n",
      "theta:[ 405.66814109   97.57919046   24.55336039], diff : 0.013675337670974841\n",
      "theta:[ 405.67126442   97.57896017   24.55143763], diff : 0.013449182481963362\n",
      "theta:[ 405.67436182   97.57873179   24.54953083], diff : 0.013226767325704714\n",
      "theta:[ 405.67743349   97.5785053    24.54763986], diff : 0.013008030335640797\n",
      "theta:[ 405.68047967   97.57828069   24.5457646 ], diff : 0.01279291070477484\n",
      "theta:[ 405.68350055   97.57805793   24.5439049 ], diff : 0.012581348607000109\n",
      "theta:[ 405.68649634   97.57783702   24.54206065], diff : 0.012373285196190409\n",
      "theta:[ 405.68946726   97.57761794   24.54023171], diff : 0.012168662638941896\n",
      "theta:[ 405.69241351   97.57740066   24.53841795], diff : 0.011967423998612503\n",
      "theta:[ 405.6953353    97.57718519   24.53661926], diff : 0.011769513353101502\n",
      "theta:[ 405.69823283   97.5769715    24.5348355 ], diff : 0.011574875628411974\n",
      "theta:[ 405.7011063    97.57675958   24.53306655], diff : 0.011383456718249363\n",
      "theta:[ 405.70395591   97.57654942   24.53131229], diff : 0.011195203390343522\n",
      "theta:[ 405.70678186   97.57634099   24.52957259], diff : 0.011010063298272144\n",
      "theta:[ 405.70958434   97.57613429   24.52784734], diff : 0.01082798493825976\n",
      "theta:[ 405.71236356   97.57592931   24.52613642], diff : 0.010648917704656924\n",
      "theta:[ 405.71511969   97.57572601   24.5244397 ], diff : 0.010472811773070134\n",
      "theta:[ 405.71785294   97.57552441   24.52275707], diff : 0.010299618194494542\n",
      "theta:[ 405.7205635    97.57532447   24.52108841], diff : 0.010129288782991352\n",
      "theta:[ 405.72325155   97.57512618   24.51943361], diff : 0.009961776199816086\n"
     ]
    }
   ],
   "source": [
    "theta = np.random.rand(3)\n",
    "\n",
    "# train data to matrix\n",
    "def to_matrix(x):\n",
    "    return np.vstack([np.ones(x.shape[0]), x, x ** 2]).T\n",
    "\n",
    "X = to_matrix(train_z)\n",
    "\n",
    "# pred func\n",
    "def f(x):\n",
    "    return np.dot(x, theta)\n",
    "\n",
    "# diff error\n",
    "diff = 1\n",
    "\n",
    "# loop learn\n",
    "error = E(X, click_dat.y)\n",
    "while diff > 1e-2:\n",
    "    theta = theta - ETA * np.dot(f(X) - click_dat.y, X)\n",
    "    \n",
    "    current_error = E(X, click_dat.y)\n",
    "    diff = error - current_error\n",
    "    error = current_error\n",
    "    print('theta:{}, diff : {}'.format(theta, diff))\n",
    "\n"
   ]
  },
  {
   "cell_type": "code",
   "execution_count": 12,
   "metadata": {
    "collapsed": false
   },
   "outputs": [
    {
     "data": {
      "text/plain": [
       "[<matplotlib.lines.Line2D at 0x1124aeef0>]"
      ]
     },
     "execution_count": 12,
     "metadata": {},
     "output_type": "execute_result"
    },
    {
     "data": {
      "image/png": "[encoded data removed]",
      "text/plain": [
       "<matplotlib.figure.Figure at 0x112403358>"
      ]
     },
     "metadata": {},
     "output_type": "display_data"
    }
   ],
   "source": [
    "x = np.linspace(-3, 3, 100)\n",
    "plt.plot(train_z, click_dat.y, 'o')\n",
    "plt.plot(x, f(to_matrix(x)), 'o')"
   ]
  },
  {
   "cell_type": "code",
   "execution_count": 13,
   "metadata": {
    "collapsed": false
   },
   "outputs": [
    {
     "data": {
      "text/plain": [
       "[<matplotlib.lines.Line2D at 0x1127f5780>]"
      ]
     },
     "execution_count": 13,
     "metadata": {},
     "output_type": "execute_result"
    },
    {
     "data": {
      "image/png": "[encoded data removed]",
      "text/plain": [
       "<matplotlib.figure.Figure at 0x112495ef0>"
      ]
     },
     "metadata": {},
     "output_type": "display_data"
    }
   ],
   "source": [
    "# MSE : mean square error\n",
    "def MSE(x, y):\n",
    "    return (1 / x.shape[0]) * np.sum((y - f(x)) ** 2)\n",
    "\n",
    "theta = np.random.rand(3)\n",
    "\n",
    "# MSEの履歴\n",
    "errors = []\n",
    "\n",
    "diff = 1\n",
    "\n",
    "errors.append(MSE(X, click_dat.y))\n",
    "while diff > 1e-2:\n",
    "    theta = theta - ETA * np.dot(f(X) - click_dat.y, X)\n",
    "    errors.append(MSE(X, click_dat.y))\n",
    "    diff = errors[-2] - errors[-1]\n",
    "    \n",
    "# plot error\n",
    "x = np.arange(len(errors))\n",
    "plt.plot(x, errors)"
   ]
  },
  {
   "cell_type": "markdown",
   "metadata": {},
   "source": [
    "## 2.5 確率的勾配降下法の実装\n"
   ]
  },
  {
   "cell_type": "code",
   "execution_count": null,
   "metadata": {
    "collapsed": true
   },
   "outputs": [],
   "source": []
  },
  {
   "cell_type": "markdown",
   "metadata": {},
   "source": [
    "# 3. パーセプトロン"
   ]
  },
  {
   "cell_type": "code",
   "execution_count": 14,
   "metadata": {
    "collapsed": true
   },
   "outputs": [],
   "source": [
    "train = np.loadtxt('images1.csv', delimiter=',', skiprows=1)\n",
    "train_x = train[:, 0:2]\n",
    "train_y = train[:, 2]"
   ]
  },
  {
   "cell_type": "code",
   "execution_count": 15,
   "metadata": {
    "collapsed": false
   },
   "outputs": [
    {
     "data": {
      "text/plain": [
       "array([-1., -1., -1.,  1.,  1., -1.,  1.,  1.,  1.,  1., -1.,  1.,  1.,\n",
       "        1., -1., -1.,  1., -1., -1.,  1.])"
      ]
     },
     "execution_count": 15,
     "metadata": {},
     "output_type": "execute_result"
    }
   ],
   "source": [
    "train_y"
   ]
  },
  {
   "cell_type": "code",
   "execution_count": 16,
   "metadata": {
    "collapsed": false
   },
   "outputs": [
    {
     "data": {
      "text/plain": [
       "array([False, False, False,  True,  True, False,  True,  True,  True,\n",
       "        True, False,  True,  True,  True, False, False,  True, False,\n",
       "       False,  True], dtype=bool)"
      ]
     },
     "execution_count": 16,
     "metadata": {},
     "output_type": "execute_result"
    }
   ],
   "source": [
    "train_y == 1\n"
   ]
  },
  {
   "cell_type": "code",
   "execution_count": 17,
   "metadata": {
    "collapsed": false,
    "scrolled": false
   },
   "outputs": [
    {
     "data": {
      "text/plain": [
       "[<matplotlib.lines.Line2D at 0x11267cef0>]"
      ]
     },
     "execution_count": 17,
     "metadata": {},
     "output_type": "execute_result"
    },
    {
     "data": {
      "image/png": "[encoded data removed]",
      "text/plain": [
       "<matplotlib.figure.Figure at 0x11267cac8>"
      ]
     },
     "metadata": {},
     "output_type": "display_data"
    }
   ],
   "source": [
    "plt.plot(train_x[train_y == 1, 0], train_x[train_y == 1, 1], 'o')\n",
    "plt.plot(train_x[train_y == -1, 0], train_x[train_y == -1, 1], 'x')\n"
   ]
  },
  {
   "cell_type": "markdown",
   "metadata": {},
   "source": [
    "\n",
    "## 3.1 パーセプトロンの実装\n",
    "$$\n",
    "f_{\\bf w}({\\bf x}) = \\begin{cases}\n",
    "    1 & ({\\bf w} \\cdot {\\bf x} \\geq 0 ) \\\\\n",
    "    -1 & ({\\bf w} \\cdot {\\bf x} < 0)\n",
    "  \\end{cases}\n",
    "$$\n"
   ]
  },
  {
   "cell_type": "code",
   "execution_count": 18,
   "metadata": {
    "collapsed": true
   },
   "outputs": [],
   "source": [
    "# init weight\n",
    "w = np.random.rand(2)\n",
    "\n",
    "# discriminator func\n",
    "def f(x):\n",
    "    if np.dot(w, x) >= 0:\n",
    "        return 1\n",
    "    else:\n",
    "        return -1\n",
    "    \n"
   ]
  },
  {
   "cell_type": "markdown",
   "metadata": {},
   "source": [
    "-  update param\n",
    "$$\n",
    "{\\bf w} := \\begin{cases}\n",
    "    {\\bf w} + y^{(i)} {\\bf x}^{(i)})  & (f_{\\bf w}({\\bf x^{(i)}} \\neq y^{(i)})) \\\\\n",
    "    {\\bf w}       & (f_{\\bf w}({\\bf x^{(i)}} = y^{(i)}))\n",
    "    \\end{cases}\n",
    "$$"
   ]
  },
  {
   "cell_type": "code",
   "execution_count": 19,
   "metadata": {
    "collapsed": false
   },
   "outputs": [
    {
     "name": "stdout",
     "output_type": "stream",
     "text": [
      "count : 1, w = [-152.95985412 -431.47122277]\n",
      "count : 2, w = [ 321.04014588  -47.47122277]\n",
      "count : 3, w = [  88.04014588 -477.47122277]\n",
      "count : 4, w = [ 484.04014588 -156.47122277]\n",
      "count : 5, w = [  85.04014588 -589.47122277]\n",
      "count : 6, w = [ 488.04014588 -289.47122277]\n",
      "count : 7, w = [ 109.04014588 -705.47122277]\n",
      "count : 8, w = [ 372.04014588 -593.47122277]\n",
      "count : 9, w = [ 846.04014588 -209.47122277]\n",
      "count : 10, w = [ 613.04014588 -639.47122277]\n"
     ]
    }
   ],
   "source": [
    "epoch = 10\n",
    "count = 0\n",
    "for _ in range(epoch):\n",
    "    for x, y in zip(train_x, train_y):\n",
    "        if f(x) != y:\n",
    "            w = w + y * x\n",
    "            count += 1\n",
    "            print('count : {}, w = {}'.format(count, w))"
   ]
  },
  {
   "cell_type": "markdown",
   "metadata": {},
   "source": [
    "- 重み $w$ を法線ベクトルとする直線の方程式\n",
    "$${\\bf w \\cdot x} = w_1 x_1 + w_2 x_2 = 0$$\n",
    "$$ x_2 = - \\frac{w_1}{w_2}x_1 $$"
   ]
  },
  {
   "cell_type": "code",
   "execution_count": null,
   "metadata": {
    "collapsed": true
   },
   "outputs": [],
   "source": []
  },
  {
   "cell_type": "code",
   "execution_count": 20,
   "metadata": {
    "collapsed": false
   },
   "outputs": [
    {
     "data": {
      "text/plain": [
       "[<matplotlib.lines.Line2D at 0x112a55278>]"
      ]
     },
     "execution_count": 20,
     "metadata": {},
     "output_type": "execute_result"
    },
    {
     "data": {
      "image/png": "[encoded data removed]",
      "text/plain": [
       "<matplotlib.figure.Figure at 0x1129504e0>"
      ]
     },
     "metadata": {},
     "output_type": "display_data"
    }
   ],
   "source": [
    "x1 = np.arange(0,500)\n",
    "plt.plot(train_x[train_y == 1, 0], train_x[train_y == 1, 1], 'o')\n",
    "plt.plot(train_x[train_y == -1, 0], train_x[train_y == -1, 1], 'x')\n",
    "plt.plot(x1, (-w[0] / w[1]) * x1 ,linestyle = 'dashed')"
   ]
  },
  {
   "cell_type": "code",
   "execution_count": 21,
   "metadata": {
    "collapsed": false
   },
   "outputs": [
    {
     "data": {
      "text/plain": [
       "1"
      ]
     },
     "execution_count": 21,
     "metadata": {},
     "output_type": "execute_result"
    }
   ],
   "source": [
    "# 未知データで分類\n",
    "f([200,100])"
   ]
  },
  {
   "cell_type": "code",
   "execution_count": 22,
   "metadata": {
    "collapsed": false
   },
   "outputs": [
    {
     "data": {
      "text/plain": [
       "-1"
      ]
     },
     "execution_count": 22,
     "metadata": {},
     "output_type": "execute_result"
    }
   ],
   "source": [
    "f([100,200])"
   ]
  },
  {
   "cell_type": "markdown",
   "metadata": {},
   "source": [
    "- ただし、線形分離可能でしか解けないので注意\n",
    "  - 解きたいときはどうするんだろう？"
   ]
  },
  {
   "cell_type": "markdown",
   "metadata": {},
   "source": [
    "# 4. ロジスティック回帰"
   ]
  },
  {
   "cell_type": "code",
   "execution_count": 23,
   "metadata": {
    "collapsed": true
   },
   "outputs": [],
   "source": [
    "train = np.loadtxt('images2.csv', delimiter=',', skiprows=1)\n",
    "train_x = train[:, 0:2]\n",
    "train_y = train[:, 2]"
   ]
  },
  {
   "cell_type": "code",
   "execution_count": 24,
   "metadata": {
    "collapsed": true
   },
   "outputs": [],
   "source": [
    "theta = np.random.rand(3)"
   ]
  },
  {
   "cell_type": "code",
   "execution_count": 25,
   "metadata": {
    "collapsed": false
   },
   "outputs": [
    {
     "data": {
      "text/plain": [
       "[<matplotlib.lines.Line2D at 0x1123ef828>]"
      ]
     },
     "execution_count": 25,
     "metadata": {},
     "output_type": "execute_result"
    },
    {
     "data": {
      "image/png": "[encoded data removed]",
      "text/plain": [
       "<matplotlib.figure.Figure at 0x112947438>"
      ]
     },
     "metadata": {},
     "output_type": "display_data"
    }
   ],
   "source": [
    "mu = train_x.mean(axis=0)\n",
    "sigma = train_x.std(axis=0)\n",
    "def standardize(x):\n",
    "    return (x - mu) / sigma\n",
    "\n",
    "train_z = standardize(train_x)\n",
    "    \n",
    "def to_matrix(x):\n",
    "    x0 = np.ones([x.shape[0], 1])\n",
    "    return np.hstack([x0, x])\n",
    "\n",
    "X = to_matrix(train_z)\n",
    "\n",
    "plt.plot(train_z[train_y == 1, 0], train_z[train_y == 1, 1], 'o')\n",
    "plt.plot(train_z[train_y == 0, 0], train_z[train_y == 0, 1], 'x')\n",
    "\n"
   ]
  },
  {
   "cell_type": "markdown",
   "metadata": {},
   "source": [
    "## 4.1 ロジスティック回帰の実装"
   ]
  },
  {
   "cell_type": "code",
   "execution_count": 26,
   "metadata": {
    "collapsed": true
   },
   "outputs": [],
   "source": [
    "# sigmoid\n",
    "def f(x):\n",
    "    return 1 / (1 + np.exp(-np.dot(x, theta)))"
   ]
  },
  {
   "cell_type": "code",
   "execution_count": 27,
   "metadata": {
    "collapsed": false
   },
   "outputs": [],
   "source": [
    "ETA = 1e-3\n",
    "epoch = 5000\n",
    "for _ in range(epoch):\n",
    "    theta = theta - ETA * np.dot(f(X) - train_y, X)"
   ]
  },
  {
   "cell_type": "code",
   "execution_count": 28,
   "metadata": {
    "collapsed": false,
    "scrolled": true
   },
   "outputs": [
    {
     "data": {
      "text/plain": [
       "[<matplotlib.lines.Line2D at 0x112cb8780>]"
      ]
     },
     "execution_count": 28,
     "metadata": {},
     "output_type": "execute_result"
    },
    {
     "data": {
      "image/png": "[encoded data removed]",
      "text/plain": [
       "<matplotlib.figure.Figure at 0x112bf2390>"
      ]
     },
     "metadata": {},
     "output_type": "display_data"
    }
   ],
   "source": [
    "x0 = np.linspace(-2, 2, 100)\n",
    "plt.plot(train_z[train_y == 1, 0], train_z[train_y == 1, 1], 'o')\n",
    "plt.plot(train_z[train_y == 0, 0], train_z[train_y == 0, 1], 'x')\n",
    "\n",
    "plt.plot(x0, -(theta[0] + theta[1] * x0) / theta[2], linestyle = 'dashed')"
   ]
  },
  {
   "cell_type": "code",
   "execution_count": null,
   "metadata": {
    "collapsed": true
   },
   "outputs": [],
   "source": []
  },
  {
   "cell_type": "code",
   "execution_count": 29,
   "metadata": {
    "collapsed": false
   },
   "outputs": [
    {
     "data": {
      "text/plain": [
       "[<matplotlib.lines.Line2D at 0x112c986a0>]"
      ]
     },
     "execution_count": 29,
     "metadata": {},
     "output_type": "execute_result"
    },
    {
     "data": {
      "image/png": "[encoded data removed]",
      "text/plain": [
       "<matplotlib.figure.Figure at 0x112c986d8>"
      ]
     },
     "metadata": {},
     "output_type": "display_data"
    }
   ],
   "source": [
    "train = np.loadtxt('data3.csv', delimiter=',', skiprows=1)\n",
    "train_x = train[:, 0:2]\n",
    "train_y = train[:, 2]\n",
    "\n",
    "theta = np.random.rand(4)\n",
    "\n",
    "mu = train_x.mean(axis=0)\n",
    "sigma = train_x.std(axis=0)\n",
    "\n",
    "def standardize(x):\n",
    "    return (x - mu) / sigma\n",
    "\n",
    "train_z = standardize(train_x)\n",
    "    \n",
    "plt.plot(train_z[train_y == 1, 0], train_z[train_y == 1, 1], 'o')\n",
    "plt.plot(train_z[train_y == 0, 0], train_z[train_y == 0, 1], 'x')\n",
    "\n"
   ]
  },
  {
   "cell_type": "code",
   "execution_count": 41,
   "metadata": {
    "collapsed": false
   },
   "outputs": [
    {
     "data": {
      "text/plain": [
       "[<matplotlib.lines.Line2D at 0x113335b00>]"
      ]
     },
     "execution_count": 41,
     "metadata": {},
     "output_type": "execute_result"
    },
    {
     "data": {
      "image/png": "[encoded data removed]",
      "text/plain": [
       "<matplotlib.figure.Figure at 0x1130f2630>"
      ]
     },
     "metadata": {},
     "output_type": "display_data"
    }
   ],
   "source": [
    "def to_matrix(x):\n",
    "    x0 = np.ones([x.shape[0], 1])\n",
    "    x3 = x[:, 0, np.newaxis] ** 2\n",
    "    return np.hstack([x0, x, x3])\n",
    "\n",
    "X = to_matrix(train_z)\n",
    "\n",
    "\n",
    "\n",
    "\n",
    "# sigmoid\n",
    "def f(x):\n",
    "    return 1 / (1 + np.exp(-np.dot(x, theta)))\n",
    "\n",
    "ETA = 1e-3\n",
    "epoch = 5000\n",
    "for _ in range(epoch):\n",
    "    theta = theta - ETA * np.dot(f(X) - train_y, X)\n",
    "\n",
    "x1 = np.linspace(-2, 2, 100)\n",
    "x2 =  -(theta[0] + theta[1] * x1 + theta[3] * x1 **2) / theta[2]\n",
    "plt.plot(train_z[train_y == 1, 0], train_z[train_y == 1, 1], 'o')\n",
    "plt.plot(train_z[train_y == 0, 0], train_z[train_y == 0, 1], 'x')\n",
    "\n",
    "plt.plot(x1, x2, linestyle = 'dashed')"
   ]
  },
  {
   "cell_type": "code",
   "execution_count": 39,
   "metadata": {
    "collapsed": true
   },
   "outputs": [],
   "source": [
    "def classify(x):\n",
    "    return (f(x) >= 0.5).astype(np.int)"
   ]
  },
  {
   "cell_type": "code",
   "execution_count": 40,
   "metadata": {
    "collapsed": false
   },
   "outputs": [
    {
     "data": {
      "text/plain": [
       "[<matplotlib.lines.Line2D at 0x1132e4470>]"
      ]
     },
     "execution_count": 40,
     "metadata": {},
     "output_type": "execute_result"
    },
    {
     "data": {
      "image/png": "[encoded data removed]",
      "text/plain": [
       "<matplotlib.figure.Figure at 0x112ca6c18>"
      ]
     },
     "metadata": {},
     "output_type": "display_data"
    }
   ],
   "source": [
    "theta = np.random.rand(4)\n",
    "accuracies = []\n",
    "for _ in range(epoch):\n",
    "    theta = theta - ETA * np.dot(f(X) - train_y, X)\n",
    "    result = classify(X) == train_y\n",
    "    accuracy = len(result[result == True]) / len(result)\n",
    "    accuracies.append(accuracy)\n",
    "    \n",
    "x = np.arange(len(accuracies))\n",
    "plt.plot(x, accuracies)"
   ]
  },
  {
   "cell_type": "code",
   "execution_count": null,
   "metadata": {
    "collapsed": true
   },
   "outputs": [],
   "source": []
  },
  {
   "cell_type": "markdown",
   "metadata": {},
   "source": [
    "## 4.2 ロジスティック回帰の確率的勾配降下法の実装"
   ]
  },
  {
   "cell_type": "code",
   "execution_count": null,
   "metadata": {
    "collapsed": true
   },
   "outputs": [],
   "source": []
  },
  {
   "cell_type": "code",
   "execution_count": 56,
   "metadata": {
    "collapsed": true
   },
   "outputs": [],
   "source": [
    "theta = np.random.rand(4)\n",
    "\n",
    "def to_matrix(x):\n",
    "    x0 = np.ones([x.shape[0], 1])\n",
    "    x3 = x[:, 0, np.newaxis] ** 2\n",
    "    return np.hstack([x0, x, x3])\n",
    "\n",
    "X = to_matrix(train_z)\n",
    "\n",
    "\n",
    "\n",
    "\n",
    "# sigmoid\n",
    "def f(x):\n",
    "    return 1 / (1 + np.exp(-np.dot(x, theta)))\n",
    "\n",
    "ETA = 1e-3\n",
    "epoch = 5000\n"
   ]
  },
  {
   "cell_type": "code",
   "execution_count": 57,
   "metadata": {
    "collapsed": false
   },
   "outputs": [
    {
     "data": {
      "text/plain": [
       "array([10,  0,  8, 18,  3,  7,  5, 15, 19,  6, 11,  9,  4, 12,  1, 17, 13,\n",
       "       16, 14,  2])"
      ]
     },
     "execution_count": 57,
     "metadata": {},
     "output_type": "execute_result"
    }
   ],
   "source": [
    "p = np.random.permutation(X.shape[0])\n",
    "p"
   ]
  },
  {
   "cell_type": "code",
   "execution_count": 60,
   "metadata": {
    "collapsed": false
   },
   "outputs": [
    {
     "data": {
      "text/plain": [
       "[<matplotlib.lines.Line2D at 0x1135e00f0>]"
      ]
     },
     "execution_count": 60,
     "metadata": {},
     "output_type": "execute_result"
    },
    {
     "data": {
      "image/png": "[encoded data removed]",
      "text/plain": [
       "<matplotlib.figure.Figure at 0x1131b69e8>"
      ]
     },
     "metadata": {},
     "output_type": "display_data"
    }
   ],
   "source": [
    "for _ in range(epoch):\n",
    "    p = np.random.permutation(X.shape[0])\n",
    "    for x, y in zip(X[p,:], train_y[p]):\n",
    "        theta = theta - ETA * (f(x) - y) * x\n",
    "\n",
    "x1 = np.linspace(-2, 2, 100)\n",
    "x2 =  -(theta[0] + theta[1] * x1 + theta[3] * x1 **2) / theta[2]\n",
    "plt.plot(train_z[train_y == 1, 0], train_z[train_y == 1, 1], 'o')\n",
    "plt.plot(train_z[train_y == 0, 0], train_z[train_y == 0, 1], 'x')\n",
    "\n",
    "plt.plot(x1, x2, linestyle = 'dashed')"
   ]
  },
  {
   "cell_type": "code",
   "execution_count": null,
   "metadata": {
    "collapsed": true
   },
   "outputs": [],
   "source": []
  },
  {
   "cell_type": "markdown",
   "metadata": {},
   "source": [
    "# 5. 正則化"
   ]
  },
  {
   "cell_type": "code",
   "execution_count": 124,
   "metadata": {
    "collapsed": true
   },
   "outputs": [],
   "source": [
    "def g(x):\n",
    "    return 0.1 * (x ** 3 + x **2 + x)\n",
    "\n",
    "train_x = np.linspace(-2, 2, 8)\n",
    "train_y = g(train_x) + 0.05 * np.random.randn(train_x.size)"
   ]
  },
  {
   "cell_type": "code",
   "execution_count": 125,
   "metadata": {
    "collapsed": false
   },
   "outputs": [
    {
     "data": {
      "text/plain": [
       "[<matplotlib.lines.Line2D at 0x113ebd860>]"
      ]
     },
     "execution_count": 125,
     "metadata": {},
     "output_type": "execute_result"
    },
    {
     "data": {
      "image/png": "[encoded data removed]",
      "text/plain": [
       "<matplotlib.figure.Figure at 0x113ebdef0>"
      ]
     },
     "metadata": {},
     "output_type": "display_data"
    }
   ],
   "source": [
    "x = np.linspace(-2, 2, 100)\n",
    "plt.plot(train_x, train_y, 'o')\n",
    "plt.plot(x, g(x), linestyle='dashed')"
   ]
  },
  {
   "cell_type": "code",
   "execution_count": 126,
   "metadata": {
    "collapsed": false
   },
   "outputs": [],
   "source": [
    "mu = train_x.mean()\n",
    "sigma = train_x.std()\n",
    "\n",
    "def standardize(x):\n",
    "    return (x - mu) / sigma\n",
    "\n",
    "train_z = standardize(x)"
   ]
  },
  {
   "cell_type": "code",
   "execution_count": 127,
   "metadata": {
    "collapsed": false
   },
   "outputs": [],
   "source": [
    "def to_matrix(x):\n",
    "    return  np.vstack([\n",
    "        np.ones(x.size) ,\n",
    "        x,\n",
    "        x ** 2,\n",
    "        x ** 3,\n",
    "        x ** 4,\n",
    "        x ** 5,\n",
    "        x ** 6,\n",
    "        x ** 7,\n",
    "        x ** 8,\n",
    "        x ** 9,\n",
    "        x ** 10\n",
    "    ]).T\n",
    "X = to_matrix(train_z)\n",
    "theta = np.random.randn(X.shape[1])\n",
    "\n",
    "def f(x):\n",
    "    return np.dot(x, theta)"
   ]
  },
  {
   "cell_type": "markdown",
   "metadata": {},
   "source": [
    "## 5.2 正則化しない場合"
   ]
  },
  {
   "cell_type": "markdown",
   "metadata": {},
   "source": [
    "## 5.3 正則化した場合"
   ]
  },
  {
   "cell_type": "code",
   "execution_count": 130,
   "metadata": {
    "collapsed": false
   },
   "outputs": [
    {
     "data": {
      "image/png": "[encoded data removed]",
      "text/plain": [
       "<matplotlib.figure.Figure at 0x113d09a20>"
      ]
     },
     "metadata": {},
     "output_type": "display_data"
    }
   ],
   "source": [
    "import numpy as np\n",
    "import matplotlib.pyplot as plt\n",
    "\n",
    "# 真の関数\n",
    "def g(x):\n",
    "    return 0.1 * (x ** 3 + x ** 2 + x)\n",
    "\n",
    "# 真の関数にノイズを加えた学習データを適当な数だけ用意する\n",
    "train_x = np.linspace(-2, 2, 8)\n",
    "train_y = g(train_x) + np.random.randn(train_x.size) * 0.05\n",
    "\n",
    "# 標準化\n",
    "mu = train_x.mean()\n",
    "sigma = train_x.std()\n",
    "def standardize(x):\n",
    "    return (x - mu) / sigma\n",
    "\n",
    "train_z = standardize(train_x)\n",
    "\n",
    "# 学習データの行列を作る\n",
    "def to_matrix(x):\n",
    "    return np.vstack([\n",
    "        np.ones(x.size),\n",
    "        x,\n",
    "        x ** 2,\n",
    "        x ** 3,\n",
    "        x ** 4,\n",
    "        x ** 5,\n",
    "        x ** 6,\n",
    "        x ** 7,\n",
    "        x ** 8,\n",
    "        x ** 9,\n",
    "        x ** 10\n",
    "    ]).T\n",
    "\n",
    "X = to_matrix(train_z)\n",
    "\n",
    "# パラメータの初期化\n",
    "theta = np.random.randn(X.shape[1])\n",
    "\n",
    "# 予測関数\n",
    "def f(x):\n",
    "    return np.dot(x, theta)\n",
    "\n",
    "# 目的関数\n",
    "def E(x, y):\n",
    "    return 0.5 * np.sum((y - f(x)) ** 2)\n",
    "\n",
    "# 正則化定数\n",
    "LAMBDA = 0.5\n",
    "\n",
    "# 学習率\n",
    "ETA = 1e-4\n",
    "\n",
    "# 誤差\n",
    "diff = 1\n",
    "\n",
    "# 正則化を適用せずに学習を繰り返す\n",
    "error = E(X, train_y)\n",
    "while diff > 1e-6:\n",
    "    theta = theta - ETA * (np.dot(f(X) - train_y, X))\n",
    "\n",
    "    current_error = E(X, train_y)\n",
    "    diff = error - current_error\n",
    "    error = current_error\n",
    "\n",
    "theta1 = theta\n",
    "\n",
    "# 正則化を適用して学習を繰り返す\n",
    "theta = np.random.randn(X.shape[1])\n",
    "diff = 1\n",
    "error = E(X, train_y)\n",
    "while diff > 1e-6:\n",
    "    reg_term = LAMBDA * np.hstack([0, theta[1:]])\n",
    "    theta = theta - ETA * (np.dot(f(X) - train_y, X) + reg_term)\n",
    "\n",
    "    current_error = E(X, train_y)\n",
    "    diff = error - current_error\n",
    "    error = current_error\n",
    "\n",
    "theta2 = theta\n",
    "\n",
    "# プロットして確認\n",
    "plt.plot(train_z, train_y, 'o')\n",
    "z = standardize(np.linspace(-2, 2, 100))\n",
    "theta = theta1 # 正則化なし\n",
    "plt.plot(z, f(to_matrix(z)), linestyle='dashed')\n",
    "theta = theta2 # 正則化あり\n",
    "plt.plot(z, f(to_matrix(z)))\n",
    "plt.show()\n"
   ]
  },
  {
   "cell_type": "code",
   "execution_count": null,
   "metadata": {
    "collapsed": true
   },
   "outputs": [],
   "source": []
  },
  {
   "cell_type": "code",
   "execution_count": null,
   "metadata": {
    "collapsed": true
   },
   "outputs": [],
   "source": []
  },
  {
   "cell_type": "code",
   "execution_count": null,
   "metadata": {
    "collapsed": true
   },
   "outputs": [],
   "source": []
  },
  {
   "cell_type": "code",
   "execution_count": null,
   "metadata": {
    "collapsed": true
   },
   "outputs": [],
   "source": []
  }
 ],
 "metadata": {
  "kernelspec": {
   "display_name": "Python 3",
   "language": "python",
   "name": "python3"
  },
  "language_info": {
   "codemirror_mode": {
    "name": "ipython",
    "version": 3
   },
   "file_extension": ".py",
   "mimetype": "text/x-python",
   "name": "python",
   "nbconvert_exporter": "python",
   "pygments_lexer": "ipython3",
   "version": "3.6.0"
  }
 },
 "nbformat": 4,
 "nbformat_minor": 2
}
